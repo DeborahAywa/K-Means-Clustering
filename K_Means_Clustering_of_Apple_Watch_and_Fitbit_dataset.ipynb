{
  "nbformat": 4,
  "nbformat_minor": 0,
  "metadata": {
    "colab": {
      "provenance": [],
      "authorship_tag": "ABX9TyOAT52xfhKIZx7mjtAw1UO9"
    },
    "kernelspec": {
      "name": "python3",
      "display_name": "Python 3"
    },
    "language_info": {
      "name": "python"
    }
  },
  "cells": [
    {
      "cell_type": "markdown",
      "source": [
        "Deborah Chadeka Aywa"
      ],
      "metadata": {
        "id": "xi7KNyH5299V"
      }
    },
    {
      "cell_type": "markdown",
      "source": [
        "## Exploratory Data Analysis"
      ],
      "metadata": {
        "id": "cXMNdF4j5vpD"
      }
    },
    {
      "cell_type": "markdown",
      "source": [
        " Loading the data"
      ],
      "metadata": {
        "id": "us4V-p6y3j_F"
      }
    },
    {
      "cell_type": "code",
      "source": [
        "from google.colab import drive\n",
        "drive.mount(\"/content/drive\")"
      ],
      "metadata": {
        "colab": {
          "base_uri": "https://localhost:8080/"
        },
        "id": "en2FrjCb3nRM",
        "outputId": "188b7f61-4741-4dbe-ca02-ccc2891cc327"
      },
      "execution_count": null,
      "outputs": [
        {
          "output_type": "stream",
          "name": "stdout",
          "text": [
            "Mounted at /content/drive\n"
          ]
        }
      ]
    },
    {
      "cell_type": "code",
      "source": [
        "#Import libraries\n",
        "import pandas as pd\n",
        "import numpy as np\n",
        "import matplotlib.pyplot as plt\n",
        "import seaborn as sns"
      ],
      "metadata": {
        "id": "O-1aaL794MSh"
      },
      "execution_count": null,
      "outputs": []
    },
    {
      "cell_type": "code",
      "source": [
        "# Reading in the data\n",
        "data = pd.read_csv(\"/content/drive/MyDrive/Apple-Watch and fit Bit data.csv\")\n",
        "data.head()"
      ],
      "metadata": {
        "colab": {
          "base_uri": "https://localhost:8080/",
          "height": 374
        },
        "id": "HaQnALJL4m18",
        "outputId": "a13764a3-d56f-468e-acea-f8a81c2f1885"
      },
      "execution_count": null,
      "outputs": [
        {
          "output_type": "execute_result",
          "data": {
            "text/plain": [
              "   Unnamed: 0  X1  age  gender  height  weight      steps  hear_rate  \\\n",
              "0           1   1   20       1   168.0    65.4  10.771429  78.531302   \n",
              "1           2   2   20       1   168.0    65.4  11.475325  78.453390   \n",
              "2           3   3   20       1   168.0    65.4  12.179221  78.540825   \n",
              "3           4   4   20       1   168.0    65.4  12.883117  78.628260   \n",
              "4           5   5   20       1   168.0    65.4  13.587013  78.715695   \n",
              "\n",
              "    calories  distance  entropy_heart  entropy_setps  resting_heart  \\\n",
              "0   0.344533  0.008327       6.221612       6.116349           59.0   \n",
              "1   3.287625  0.008896       6.221612       6.116349           59.0   \n",
              "2   9.484000  0.009466       6.221612       6.116349           59.0   \n",
              "3  10.154556  0.010035       6.221612       6.116349           59.0   \n",
              "4  10.825111  0.010605       6.221612       6.116349           59.0   \n",
              "\n",
              "   corr_heart_steps  norm_heart  intensity_karvonen  sd_norm_heart  \\\n",
              "0          1.000000   19.531302            0.138520       1.000000   \n",
              "1          1.000000   19.453390            0.137967       1.000000   \n",
              "2          1.000000   19.540825            0.138587       1.000000   \n",
              "3          1.000000   19.628260            0.139208       1.000000   \n",
              "4          0.982816   19.715695            0.139828       0.241567   \n",
              "\n",
              "   steps_times_distance       device activity  \n",
              "0              0.089692  apple watch    Lying  \n",
              "1              0.102088  apple watch    Lying  \n",
              "2              0.115287  apple watch    Lying  \n",
              "3              0.129286  apple watch    Lying  \n",
              "4              0.144088  apple watch    Lying  "
            ],
            "text/html": [
              "\n",
              "  <div id=\"df-5aab15b9-0c1a-491f-9ea2-7090c1045750\">\n",
              "    <div class=\"colab-df-container\">\n",
              "      <div>\n",
              "<style scoped>\n",
              "    .dataframe tbody tr th:only-of-type {\n",
              "        vertical-align: middle;\n",
              "    }\n",
              "\n",
              "    .dataframe tbody tr th {\n",
              "        vertical-align: top;\n",
              "    }\n",
              "\n",
              "    .dataframe thead th {\n",
              "        text-align: right;\n",
              "    }\n",
              "</style>\n",
              "<table border=\"1\" class=\"dataframe\">\n",
              "  <thead>\n",
              "    <tr style=\"text-align: right;\">\n",
              "      <th></th>\n",
              "      <th>Unnamed: 0</th>\n",
              "      <th>X1</th>\n",
              "      <th>age</th>\n",
              "      <th>gender</th>\n",
              "      <th>height</th>\n",
              "      <th>weight</th>\n",
              "      <th>steps</th>\n",
              "      <th>hear_rate</th>\n",
              "      <th>calories</th>\n",
              "      <th>distance</th>\n",
              "      <th>entropy_heart</th>\n",
              "      <th>entropy_setps</th>\n",
              "      <th>resting_heart</th>\n",
              "      <th>corr_heart_steps</th>\n",
              "      <th>norm_heart</th>\n",
              "      <th>intensity_karvonen</th>\n",
              "      <th>sd_norm_heart</th>\n",
              "      <th>steps_times_distance</th>\n",
              "      <th>device</th>\n",
              "      <th>activity</th>\n",
              "    </tr>\n",
              "  </thead>\n",
              "  <tbody>\n",
              "    <tr>\n",
              "      <th>0</th>\n",
              "      <td>1</td>\n",
              "      <td>1</td>\n",
              "      <td>20</td>\n",
              "      <td>1</td>\n",
              "      <td>168.0</td>\n",
              "      <td>65.4</td>\n",
              "      <td>10.771429</td>\n",
              "      <td>78.531302</td>\n",
              "      <td>0.344533</td>\n",
              "      <td>0.008327</td>\n",
              "      <td>6.221612</td>\n",
              "      <td>6.116349</td>\n",
              "      <td>59.0</td>\n",
              "      <td>1.000000</td>\n",
              "      <td>19.531302</td>\n",
              "      <td>0.138520</td>\n",
              "      <td>1.000000</td>\n",
              "      <td>0.089692</td>\n",
              "      <td>apple watch</td>\n",
              "      <td>Lying</td>\n",
              "    </tr>\n",
              "    <tr>\n",
              "      <th>1</th>\n",
              "      <td>2</td>\n",
              "      <td>2</td>\n",
              "      <td>20</td>\n",
              "      <td>1</td>\n",
              "      <td>168.0</td>\n",
              "      <td>65.4</td>\n",
              "      <td>11.475325</td>\n",
              "      <td>78.453390</td>\n",
              "      <td>3.287625</td>\n",
              "      <td>0.008896</td>\n",
              "      <td>6.221612</td>\n",
              "      <td>6.116349</td>\n",
              "      <td>59.0</td>\n",
              "      <td>1.000000</td>\n",
              "      <td>19.453390</td>\n",
              "      <td>0.137967</td>\n",
              "      <td>1.000000</td>\n",
              "      <td>0.102088</td>\n",
              "      <td>apple watch</td>\n",
              "      <td>Lying</td>\n",
              "    </tr>\n",
              "    <tr>\n",
              "      <th>2</th>\n",
              "      <td>3</td>\n",
              "      <td>3</td>\n",
              "      <td>20</td>\n",
              "      <td>1</td>\n",
              "      <td>168.0</td>\n",
              "      <td>65.4</td>\n",
              "      <td>12.179221</td>\n",
              "      <td>78.540825</td>\n",
              "      <td>9.484000</td>\n",
              "      <td>0.009466</td>\n",
              "      <td>6.221612</td>\n",
              "      <td>6.116349</td>\n",
              "      <td>59.0</td>\n",
              "      <td>1.000000</td>\n",
              "      <td>19.540825</td>\n",
              "      <td>0.138587</td>\n",
              "      <td>1.000000</td>\n",
              "      <td>0.115287</td>\n",
              "      <td>apple watch</td>\n",
              "      <td>Lying</td>\n",
              "    </tr>\n",
              "    <tr>\n",
              "      <th>3</th>\n",
              "      <td>4</td>\n",
              "      <td>4</td>\n",
              "      <td>20</td>\n",
              "      <td>1</td>\n",
              "      <td>168.0</td>\n",
              "      <td>65.4</td>\n",
              "      <td>12.883117</td>\n",
              "      <td>78.628260</td>\n",
              "      <td>10.154556</td>\n",
              "      <td>0.010035</td>\n",
              "      <td>6.221612</td>\n",
              "      <td>6.116349</td>\n",
              "      <td>59.0</td>\n",
              "      <td>1.000000</td>\n",
              "      <td>19.628260</td>\n",
              "      <td>0.139208</td>\n",
              "      <td>1.000000</td>\n",
              "      <td>0.129286</td>\n",
              "      <td>apple watch</td>\n",
              "      <td>Lying</td>\n",
              "    </tr>\n",
              "    <tr>\n",
              "      <th>4</th>\n",
              "      <td>5</td>\n",
              "      <td>5</td>\n",
              "      <td>20</td>\n",
              "      <td>1</td>\n",
              "      <td>168.0</td>\n",
              "      <td>65.4</td>\n",
              "      <td>13.587013</td>\n",
              "      <td>78.715695</td>\n",
              "      <td>10.825111</td>\n",
              "      <td>0.010605</td>\n",
              "      <td>6.221612</td>\n",
              "      <td>6.116349</td>\n",
              "      <td>59.0</td>\n",
              "      <td>0.982816</td>\n",
              "      <td>19.715695</td>\n",
              "      <td>0.139828</td>\n",
              "      <td>0.241567</td>\n",
              "      <td>0.144088</td>\n",
              "      <td>apple watch</td>\n",
              "      <td>Lying</td>\n",
              "    </tr>\n",
              "  </tbody>\n",
              "</table>\n",
              "</div>\n",
              "      <button class=\"colab-df-convert\" onclick=\"convertToInteractive('df-5aab15b9-0c1a-491f-9ea2-7090c1045750')\"\n",
              "              title=\"Convert this dataframe to an interactive table.\"\n",
              "              style=\"display:none;\">\n",
              "        \n",
              "  <svg xmlns=\"http://www.w3.org/2000/svg\" height=\"24px\"viewBox=\"0 0 24 24\"\n",
              "       width=\"24px\">\n",
              "    <path d=\"M0 0h24v24H0V0z\" fill=\"none\"/>\n",
              "    <path d=\"M18.56 5.44l.94 2.06.94-2.06 2.06-.94-2.06-.94-.94-2.06-.94 2.06-2.06.94zm-11 1L8.5 8.5l.94-2.06 2.06-.94-2.06-.94L8.5 2.5l-.94 2.06-2.06.94zm10 10l.94 2.06.94-2.06 2.06-.94-2.06-.94-.94-2.06-.94 2.06-2.06.94z\"/><path d=\"M17.41 7.96l-1.37-1.37c-.4-.4-.92-.59-1.43-.59-.52 0-1.04.2-1.43.59L10.3 9.45l-7.72 7.72c-.78.78-.78 2.05 0 2.83L4 21.41c.39.39.9.59 1.41.59.51 0 1.02-.2 1.41-.59l7.78-7.78 2.81-2.81c.8-.78.8-2.07 0-2.86zM5.41 20L4 18.59l7.72-7.72 1.47 1.35L5.41 20z\"/>\n",
              "  </svg>\n",
              "      </button>\n",
              "      \n",
              "  <style>\n",
              "    .colab-df-container {\n",
              "      display:flex;\n",
              "      flex-wrap:wrap;\n",
              "      gap: 12px;\n",
              "    }\n",
              "\n",
              "    .colab-df-convert {\n",
              "      background-color: #E8F0FE;\n",
              "      border: none;\n",
              "      border-radius: 50%;\n",
              "      cursor: pointer;\n",
              "      display: none;\n",
              "      fill: #1967D2;\n",
              "      height: 32px;\n",
              "      padding: 0 0 0 0;\n",
              "      width: 32px;\n",
              "    }\n",
              "\n",
              "    .colab-df-convert:hover {\n",
              "      background-color: #E2EBFA;\n",
              "      box-shadow: 0px 1px 2px rgba(60, 64, 67, 0.3), 0px 1px 3px 1px rgba(60, 64, 67, 0.15);\n",
              "      fill: #174EA6;\n",
              "    }\n",
              "\n",
              "    [theme=dark] .colab-df-convert {\n",
              "      background-color: #3B4455;\n",
              "      fill: #D2E3FC;\n",
              "    }\n",
              "\n",
              "    [theme=dark] .colab-df-convert:hover {\n",
              "      background-color: #434B5C;\n",
              "      box-shadow: 0px 1px 3px 1px rgba(0, 0, 0, 0.15);\n",
              "      filter: drop-shadow(0px 1px 2px rgba(0, 0, 0, 0.3));\n",
              "      fill: #FFFFFF;\n",
              "    }\n",
              "  </style>\n",
              "\n",
              "      <script>\n",
              "        const buttonEl =\n",
              "          document.querySelector('#df-5aab15b9-0c1a-491f-9ea2-7090c1045750 button.colab-df-convert');\n",
              "        buttonEl.style.display =\n",
              "          google.colab.kernel.accessAllowed ? 'block' : 'none';\n",
              "\n",
              "        async function convertToInteractive(key) {\n",
              "          const element = document.querySelector('#df-5aab15b9-0c1a-491f-9ea2-7090c1045750');\n",
              "          const dataTable =\n",
              "            await google.colab.kernel.invokeFunction('convertToInteractive',\n",
              "                                                     [key], {});\n",
              "          if (!dataTable) return;\n",
              "\n",
              "          const docLinkHtml = 'Like what you see? Visit the ' +\n",
              "            '<a target=\"_blank\" href=https://colab.research.google.com/notebooks/data_table.ipynb>data table notebook</a>'\n",
              "            + ' to learn more about interactive tables.';\n",
              "          element.innerHTML = '';\n",
              "          dataTable['output_type'] = 'display_data';\n",
              "          await google.colab.output.renderOutput(dataTable, element);\n",
              "          const docLink = document.createElement('div');\n",
              "          docLink.innerHTML = docLinkHtml;\n",
              "          element.appendChild(docLink);\n",
              "        }\n",
              "      </script>\n",
              "    </div>\n",
              "  </div>\n",
              "  "
            ]
          },
          "metadata": {},
          "execution_count": 3
        }
      ]
    },
    {
      "cell_type": "code",
      "source": [
        "# Data types\n",
        "data.info()"
      ],
      "metadata": {
        "colab": {
          "base_uri": "https://localhost:8080/"
        },
        "id": "QDNyz_qM52On",
        "outputId": "4d78e608-ad81-4a70-f7c4-e4931aeecc86"
      },
      "execution_count": null,
      "outputs": [
        {
          "output_type": "stream",
          "name": "stdout",
          "text": [
            "<class 'pandas.core.frame.DataFrame'>\n",
            "RangeIndex: 6264 entries, 0 to 6263\n",
            "Data columns (total 20 columns):\n",
            " #   Column                Non-Null Count  Dtype  \n",
            "---  ------                --------------  -----  \n",
            " 0   Unnamed: 0            6264 non-null   int64  \n",
            " 1   X1                    6264 non-null   int64  \n",
            " 2   age                   6264 non-null   int64  \n",
            " 3   gender                6264 non-null   int64  \n",
            " 4   height                6264 non-null   float64\n",
            " 5   weight                6264 non-null   float64\n",
            " 6   steps                 6264 non-null   float64\n",
            " 7   hear_rate             6264 non-null   float64\n",
            " 8   calories              6264 non-null   float64\n",
            " 9   distance              6264 non-null   float64\n",
            " 10  entropy_heart         6264 non-null   float64\n",
            " 11  entropy_setps         6264 non-null   float64\n",
            " 12  resting_heart         6264 non-null   float64\n",
            " 13  corr_heart_steps      6264 non-null   float64\n",
            " 14  norm_heart            6264 non-null   float64\n",
            " 15  intensity_karvonen    6264 non-null   float64\n",
            " 16  sd_norm_heart         6264 non-null   float64\n",
            " 17  steps_times_distance  6264 non-null   float64\n",
            " 18  device                6264 non-null   object \n",
            " 19  activity              6264 non-null   object \n",
            "dtypes: float64(14), int64(4), object(2)\n",
            "memory usage: 978.9+ KB\n"
          ]
        }
      ]
    },
    {
      "cell_type": "code",
      "source": [
        "#Checking for null values\n",
        "y = data.isnull().sum().sort_values(ascending = False)\n",
        "y"
      ],
      "metadata": {
        "colab": {
          "base_uri": "https://localhost:8080/"
        },
        "id": "ruCrc5R56DTu",
        "outputId": "73f21a42-c691-4652-a909-2665d3c3afcf"
      },
      "execution_count": null,
      "outputs": [
        {
          "output_type": "execute_result",
          "data": {
            "text/plain": [
              "Unnamed: 0              0\n",
              "X1                      0\n",
              "device                  0\n",
              "steps_times_distance    0\n",
              "sd_norm_heart           0\n",
              "intensity_karvonen      0\n",
              "norm_heart              0\n",
              "corr_heart_steps        0\n",
              "resting_heart           0\n",
              "entropy_setps           0\n",
              "entropy_heart           0\n",
              "distance                0\n",
              "calories                0\n",
              "hear_rate               0\n",
              "steps                   0\n",
              "weight                  0\n",
              "height                  0\n",
              "gender                  0\n",
              "age                     0\n",
              "activity                0\n",
              "dtype: int64"
            ]
          },
          "metadata": {},
          "execution_count": 5
        }
      ]
    },
    {
      "cell_type": "markdown",
      "source": [
        " There are no null values in our dataset"
      ],
      "metadata": {
        "id": "E39AdZuX6g2d"
      }
    },
    {
      "cell_type": "code",
      "source": [
        "#Measures of central tendencies\n",
        "data.describe()"
      ],
      "metadata": {
        "colab": {
          "base_uri": "https://localhost:8080/",
          "height": 364
        },
        "id": "iaruH1Iy6prt",
        "outputId": "45f400a4-dca4-400c-94a8-1a5336d77d43"
      },
      "execution_count": null,
      "outputs": [
        {
          "output_type": "execute_result",
          "data": {
            "text/plain": [
              "        Unnamed: 0           X1          age       gender       height  \\\n",
              "count  6264.000000  6264.000000  6264.000000  6264.000000  6264.000000   \n",
              "mean   3132.500000  1771.144317    29.158525     0.476533   169.709052   \n",
              "std    1808.405375  1097.988748     8.908978     0.499489    10.324698   \n",
              "min       1.000000     1.000000    18.000000     0.000000   143.000000   \n",
              "25%    1566.750000   789.750000    23.000000     0.000000   160.000000   \n",
              "50%    3132.500000  1720.000000    28.000000     0.000000   168.000000   \n",
              "75%    4698.250000  2759.250000    33.000000     1.000000   180.000000   \n",
              "max    6264.000000  3670.000000    56.000000     1.000000   191.000000   \n",
              "\n",
              "            weight        steps    hear_rate     calories     distance  \\\n",
              "count  6264.000000  6264.000000  6264.000000  6264.000000  6264.000000   \n",
              "mean     69.614464   109.562268    86.142331    19.471823    13.832555   \n",
              "std      13.451878   222.797908    28.648385    27.309765    45.941437   \n",
              "min      43.000000     1.000000     2.222222     0.056269     0.000440   \n",
              "25%      60.000000     5.159534    75.598079     0.735875     0.019135   \n",
              "50%      68.000000    10.092029    77.267680     4.000000     0.181719   \n",
              "75%      77.300000   105.847222    95.669118    20.500000    15.697188   \n",
              "max     115.000000  1714.000000   194.333333    97.500000   335.000000   \n",
              "\n",
              "       entropy_heart  entropy_setps  resting_heart  corr_heart_steps  \\\n",
              "count    6264.000000    6264.000000    6264.000000       6264.000000   \n",
              "mean        6.030314       5.739984      65.869938          0.306447   \n",
              "std         0.765574       1.256348      21.203017          0.775418   \n",
              "min         0.000000       0.000000       3.000000         -1.000000   \n",
              "25%         6.108524       5.909440      58.134333         -0.467303   \n",
              "50%         6.189825       6.157197      75.000000          0.665829   \n",
              "75%         6.247928       6.247928      76.138701          1.000000   \n",
              "max         6.475733       6.475733     155.000000          1.000000   \n",
              "\n",
              "        norm_heart  intensity_karvonen  sd_norm_heart  steps_times_distance  \n",
              "count  6264.000000         6264.000000    6264.000000           6264.000000  \n",
              "mean     20.272393            0.155479       8.110854            590.035239  \n",
              "std      28.388116            0.210927      12.535080           4063.838530  \n",
              "min     -76.000000           -2.714286       0.000000              0.000690  \n",
              "25%       1.148883            0.009819       0.264722              0.659260  \n",
              "50%       9.820254            0.079529       2.893503             13.368619  \n",
              "75%      27.077336            0.211868       9.679672             93.728562  \n",
              "max     156.319444            1.297980      74.457929          51520.000000  "
            ],
            "text/html": [
              "\n",
              "  <div id=\"df-06bc3915-4cae-4b40-976d-157ef0176978\">\n",
              "    <div class=\"colab-df-container\">\n",
              "      <div>\n",
              "<style scoped>\n",
              "    .dataframe tbody tr th:only-of-type {\n",
              "        vertical-align: middle;\n",
              "    }\n",
              "\n",
              "    .dataframe tbody tr th {\n",
              "        vertical-align: top;\n",
              "    }\n",
              "\n",
              "    .dataframe thead th {\n",
              "        text-align: right;\n",
              "    }\n",
              "</style>\n",
              "<table border=\"1\" class=\"dataframe\">\n",
              "  <thead>\n",
              "    <tr style=\"text-align: right;\">\n",
              "      <th></th>\n",
              "      <th>Unnamed: 0</th>\n",
              "      <th>X1</th>\n",
              "      <th>age</th>\n",
              "      <th>gender</th>\n",
              "      <th>height</th>\n",
              "      <th>weight</th>\n",
              "      <th>steps</th>\n",
              "      <th>hear_rate</th>\n",
              "      <th>calories</th>\n",
              "      <th>distance</th>\n",
              "      <th>entropy_heart</th>\n",
              "      <th>entropy_setps</th>\n",
              "      <th>resting_heart</th>\n",
              "      <th>corr_heart_steps</th>\n",
              "      <th>norm_heart</th>\n",
              "      <th>intensity_karvonen</th>\n",
              "      <th>sd_norm_heart</th>\n",
              "      <th>steps_times_distance</th>\n",
              "    </tr>\n",
              "  </thead>\n",
              "  <tbody>\n",
              "    <tr>\n",
              "      <th>count</th>\n",
              "      <td>6264.000000</td>\n",
              "      <td>6264.000000</td>\n",
              "      <td>6264.000000</td>\n",
              "      <td>6264.000000</td>\n",
              "      <td>6264.000000</td>\n",
              "      <td>6264.000000</td>\n",
              "      <td>6264.000000</td>\n",
              "      <td>6264.000000</td>\n",
              "      <td>6264.000000</td>\n",
              "      <td>6264.000000</td>\n",
              "      <td>6264.000000</td>\n",
              "      <td>6264.000000</td>\n",
              "      <td>6264.000000</td>\n",
              "      <td>6264.000000</td>\n",
              "      <td>6264.000000</td>\n",
              "      <td>6264.000000</td>\n",
              "      <td>6264.000000</td>\n",
              "      <td>6264.000000</td>\n",
              "    </tr>\n",
              "    <tr>\n",
              "      <th>mean</th>\n",
              "      <td>3132.500000</td>\n",
              "      <td>1771.144317</td>\n",
              "      <td>29.158525</td>\n",
              "      <td>0.476533</td>\n",
              "      <td>169.709052</td>\n",
              "      <td>69.614464</td>\n",
              "      <td>109.562268</td>\n",
              "      <td>86.142331</td>\n",
              "      <td>19.471823</td>\n",
              "      <td>13.832555</td>\n",
              "      <td>6.030314</td>\n",
              "      <td>5.739984</td>\n",
              "      <td>65.869938</td>\n",
              "      <td>0.306447</td>\n",
              "      <td>20.272393</td>\n",
              "      <td>0.155479</td>\n",
              "      <td>8.110854</td>\n",
              "      <td>590.035239</td>\n",
              "    </tr>\n",
              "    <tr>\n",
              "      <th>std</th>\n",
              "      <td>1808.405375</td>\n",
              "      <td>1097.988748</td>\n",
              "      <td>8.908978</td>\n",
              "      <td>0.499489</td>\n",
              "      <td>10.324698</td>\n",
              "      <td>13.451878</td>\n",
              "      <td>222.797908</td>\n",
              "      <td>28.648385</td>\n",
              "      <td>27.309765</td>\n",
              "      <td>45.941437</td>\n",
              "      <td>0.765574</td>\n",
              "      <td>1.256348</td>\n",
              "      <td>21.203017</td>\n",
              "      <td>0.775418</td>\n",
              "      <td>28.388116</td>\n",
              "      <td>0.210927</td>\n",
              "      <td>12.535080</td>\n",
              "      <td>4063.838530</td>\n",
              "    </tr>\n",
              "    <tr>\n",
              "      <th>min</th>\n",
              "      <td>1.000000</td>\n",
              "      <td>1.000000</td>\n",
              "      <td>18.000000</td>\n",
              "      <td>0.000000</td>\n",
              "      <td>143.000000</td>\n",
              "      <td>43.000000</td>\n",
              "      <td>1.000000</td>\n",
              "      <td>2.222222</td>\n",
              "      <td>0.056269</td>\n",
              "      <td>0.000440</td>\n",
              "      <td>0.000000</td>\n",
              "      <td>0.000000</td>\n",
              "      <td>3.000000</td>\n",
              "      <td>-1.000000</td>\n",
              "      <td>-76.000000</td>\n",
              "      <td>-2.714286</td>\n",
              "      <td>0.000000</td>\n",
              "      <td>0.000690</td>\n",
              "    </tr>\n",
              "    <tr>\n",
              "      <th>25%</th>\n",
              "      <td>1566.750000</td>\n",
              "      <td>789.750000</td>\n",
              "      <td>23.000000</td>\n",
              "      <td>0.000000</td>\n",
              "      <td>160.000000</td>\n",
              "      <td>60.000000</td>\n",
              "      <td>5.159534</td>\n",
              "      <td>75.598079</td>\n",
              "      <td>0.735875</td>\n",
              "      <td>0.019135</td>\n",
              "      <td>6.108524</td>\n",
              "      <td>5.909440</td>\n",
              "      <td>58.134333</td>\n",
              "      <td>-0.467303</td>\n",
              "      <td>1.148883</td>\n",
              "      <td>0.009819</td>\n",
              "      <td>0.264722</td>\n",
              "      <td>0.659260</td>\n",
              "    </tr>\n",
              "    <tr>\n",
              "      <th>50%</th>\n",
              "      <td>3132.500000</td>\n",
              "      <td>1720.000000</td>\n",
              "      <td>28.000000</td>\n",
              "      <td>0.000000</td>\n",
              "      <td>168.000000</td>\n",
              "      <td>68.000000</td>\n",
              "      <td>10.092029</td>\n",
              "      <td>77.267680</td>\n",
              "      <td>4.000000</td>\n",
              "      <td>0.181719</td>\n",
              "      <td>6.189825</td>\n",
              "      <td>6.157197</td>\n",
              "      <td>75.000000</td>\n",
              "      <td>0.665829</td>\n",
              "      <td>9.820254</td>\n",
              "      <td>0.079529</td>\n",
              "      <td>2.893503</td>\n",
              "      <td>13.368619</td>\n",
              "    </tr>\n",
              "    <tr>\n",
              "      <th>75%</th>\n",
              "      <td>4698.250000</td>\n",
              "      <td>2759.250000</td>\n",
              "      <td>33.000000</td>\n",
              "      <td>1.000000</td>\n",
              "      <td>180.000000</td>\n",
              "      <td>77.300000</td>\n",
              "      <td>105.847222</td>\n",
              "      <td>95.669118</td>\n",
              "      <td>20.500000</td>\n",
              "      <td>15.697188</td>\n",
              "      <td>6.247928</td>\n",
              "      <td>6.247928</td>\n",
              "      <td>76.138701</td>\n",
              "      <td>1.000000</td>\n",
              "      <td>27.077336</td>\n",
              "      <td>0.211868</td>\n",
              "      <td>9.679672</td>\n",
              "      <td>93.728562</td>\n",
              "    </tr>\n",
              "    <tr>\n",
              "      <th>max</th>\n",
              "      <td>6264.000000</td>\n",
              "      <td>3670.000000</td>\n",
              "      <td>56.000000</td>\n",
              "      <td>1.000000</td>\n",
              "      <td>191.000000</td>\n",
              "      <td>115.000000</td>\n",
              "      <td>1714.000000</td>\n",
              "      <td>194.333333</td>\n",
              "      <td>97.500000</td>\n",
              "      <td>335.000000</td>\n",
              "      <td>6.475733</td>\n",
              "      <td>6.475733</td>\n",
              "      <td>155.000000</td>\n",
              "      <td>1.000000</td>\n",
              "      <td>156.319444</td>\n",
              "      <td>1.297980</td>\n",
              "      <td>74.457929</td>\n",
              "      <td>51520.000000</td>\n",
              "    </tr>\n",
              "  </tbody>\n",
              "</table>\n",
              "</div>\n",
              "      <button class=\"colab-df-convert\" onclick=\"convertToInteractive('df-06bc3915-4cae-4b40-976d-157ef0176978')\"\n",
              "              title=\"Convert this dataframe to an interactive table.\"\n",
              "              style=\"display:none;\">\n",
              "        \n",
              "  <svg xmlns=\"http://www.w3.org/2000/svg\" height=\"24px\"viewBox=\"0 0 24 24\"\n",
              "       width=\"24px\">\n",
              "    <path d=\"M0 0h24v24H0V0z\" fill=\"none\"/>\n",
              "    <path d=\"M18.56 5.44l.94 2.06.94-2.06 2.06-.94-2.06-.94-.94-2.06-.94 2.06-2.06.94zm-11 1L8.5 8.5l.94-2.06 2.06-.94-2.06-.94L8.5 2.5l-.94 2.06-2.06.94zm10 10l.94 2.06.94-2.06 2.06-.94-2.06-.94-.94-2.06-.94 2.06-2.06.94z\"/><path d=\"M17.41 7.96l-1.37-1.37c-.4-.4-.92-.59-1.43-.59-.52 0-1.04.2-1.43.59L10.3 9.45l-7.72 7.72c-.78.78-.78 2.05 0 2.83L4 21.41c.39.39.9.59 1.41.59.51 0 1.02-.2 1.41-.59l7.78-7.78 2.81-2.81c.8-.78.8-2.07 0-2.86zM5.41 20L4 18.59l7.72-7.72 1.47 1.35L5.41 20z\"/>\n",
              "  </svg>\n",
              "      </button>\n",
              "      \n",
              "  <style>\n",
              "    .colab-df-container {\n",
              "      display:flex;\n",
              "      flex-wrap:wrap;\n",
              "      gap: 12px;\n",
              "    }\n",
              "\n",
              "    .colab-df-convert {\n",
              "      background-color: #E8F0FE;\n",
              "      border: none;\n",
              "      border-radius: 50%;\n",
              "      cursor: pointer;\n",
              "      display: none;\n",
              "      fill: #1967D2;\n",
              "      height: 32px;\n",
              "      padding: 0 0 0 0;\n",
              "      width: 32px;\n",
              "    }\n",
              "\n",
              "    .colab-df-convert:hover {\n",
              "      background-color: #E2EBFA;\n",
              "      box-shadow: 0px 1px 2px rgba(60, 64, 67, 0.3), 0px 1px 3px 1px rgba(60, 64, 67, 0.15);\n",
              "      fill: #174EA6;\n",
              "    }\n",
              "\n",
              "    [theme=dark] .colab-df-convert {\n",
              "      background-color: #3B4455;\n",
              "      fill: #D2E3FC;\n",
              "    }\n",
              "\n",
              "    [theme=dark] .colab-df-convert:hover {\n",
              "      background-color: #434B5C;\n",
              "      box-shadow: 0px 1px 3px 1px rgba(0, 0, 0, 0.15);\n",
              "      filter: drop-shadow(0px 1px 2px rgba(0, 0, 0, 0.3));\n",
              "      fill: #FFFFFF;\n",
              "    }\n",
              "  </style>\n",
              "\n",
              "      <script>\n",
              "        const buttonEl =\n",
              "          document.querySelector('#df-06bc3915-4cae-4b40-976d-157ef0176978 button.colab-df-convert');\n",
              "        buttonEl.style.display =\n",
              "          google.colab.kernel.accessAllowed ? 'block' : 'none';\n",
              "\n",
              "        async function convertToInteractive(key) {\n",
              "          const element = document.querySelector('#df-06bc3915-4cae-4b40-976d-157ef0176978');\n",
              "          const dataTable =\n",
              "            await google.colab.kernel.invokeFunction('convertToInteractive',\n",
              "                                                     [key], {});\n",
              "          if (!dataTable) return;\n",
              "\n",
              "          const docLinkHtml = 'Like what you see? Visit the ' +\n",
              "            '<a target=\"_blank\" href=https://colab.research.google.com/notebooks/data_table.ipynb>data table notebook</a>'\n",
              "            + ' to learn more about interactive tables.';\n",
              "          element.innerHTML = '';\n",
              "          dataTable['output_type'] = 'display_data';\n",
              "          await google.colab.output.renderOutput(dataTable, element);\n",
              "          const docLink = document.createElement('div');\n",
              "          docLink.innerHTML = docLinkHtml;\n",
              "          element.appendChild(docLink);\n",
              "        }\n",
              "      </script>\n",
              "    </div>\n",
              "  </div>\n",
              "  "
            ]
          },
          "metadata": {},
          "execution_count": 6
        }
      ]
    },
    {
      "cell_type": "markdown",
      "source": [
        " Our data contains individuals with an average age of 29 years, average height of approximately 170 cm and an average weight of 70 kg"
      ],
      "metadata": {
        "id": "BxzQV0lK7CsH"
      }
    },
    {
      "cell_type": "code",
      "source": [
        "from numpy.ma.core import count\n",
        "# Plotting histograms for columns in our data\n",
        "for i in data.columns:\n",
        "  plt.figure(figsize=(10,10))\n",
        "  sns.displot(data[i])\n",
        "  plt.xlabel(i)\n",
        "  plt.ylabel(count)\n",
        "  plt.title(i)\n",
        "  plt.show()\n"
      ],
      "metadata": {
        "colab": {
          "base_uri": "https://localhost:8080/",
          "height": 1000
        },
        "id": "1T14moTw7W_x",
        "outputId": "c002241f-319e-4f13-93e9-f4f4ef8acdb6"
      },
      "execution_count": null,
      "outputs": [
        {
          "output_type": "display_data",
          "data": {
            "text/plain": [
              "<Figure size 720x720 with 0 Axes>"
            ]
          },
          "metadata": {}
        },
        {
          "output_type": "display_data",
          "data": {
            "text/plain": [
              "<Figure size 360x360 with 1 Axes>"
            ],
            "image/png": "[encoded data removed]"
          },
          "metadata": {
            "needs_background": "light"
          }
        },
        {
          "output_type": "display_data",
          "data": {
            "text/plain": [
              "<Figure size 720x720 with 0 Axes>"
            ]
          },
          "metadata": {}
        },
        {
          "output_type": "display_data",
          "data": {
            "text/plain": [
              "<Figure size 360x360 with 1 Axes>"
            ],
            "image/png": "[encoded data removed]"
          },
          "metadata": {
            "needs_background": "light"
          }
        },
        {
          "output_type": "display_data",
          "data": {
            "text/plain": [
              "<Figure size 720x720 with 0 Axes>"
            ]
          },
          "metadata": {}
        },
        {
          "output_type": "display_data",
          "data": {
            "text/plain": [
              "<Figure size 360x360 with 1 Axes>"
            ],
            "image/png": "[encoded data removed]"
          },
          "metadata": {
            "needs_background": "light"
          }
        },
        {
          "output_type": "display_data",
          "data": {
            "text/plain": [
              "<Figure size 720x720 with 0 Axes>"
            ]
          },
          "metadata": {}
        },
        {
          "output_type": "display_data",
          "data": {
            "text/plain": [
              "<Figure size 360x360 with 1 Axes>"
            ],
            "image/png": "[encoded data removed]"
          },
          "metadata": {
            "needs_background": "light"
          }
        },
        {
          "output_type": "display_data",
          "data": {
            "text/plain": [
              "<Figure size 720x720 with 0 Axes>"
            ]
          },
          "metadata": {}
        },
        {
          "output_type": "display_data",
          "data": {
            "text/plain": [
              "<Figure size 360x360 with 1 Axes>"
            ],
            "image/png": "[encoded data removed]"
          },
          "metadata": {
            "needs_background": "light"
          }
        },
        {
          "output_type": "display_data",
          "data": {
            "text/plain": [
              "<Figure size 720x720 with 0 Axes>"
            ]
          },
          "metadata": {}
        },
        {
          "output_type": "display_data",
          "data": {
            "text/plain": [
              "<Figure size 360x360 with 1 Axes>"
            ],
            "image/png": "[encoded data removed]"
          },
          "metadata": {
            "needs_background": "light"
          }
        },
        {
          "output_type": "display_data",
          "data": {
            "text/plain": [
              "<Figure size 720x720 with 0 Axes>"
            ]
          },
          "metadata": {}
        },
        {
          "output_type": "display_data",
          "data": {
            "text/plain": [
              "<Figure size 360x360 with 1 Axes>"
            ],
            "image/png": "[encoded data removed]"
          },
          "metadata": {
            "needs_background": "light"
          }
        },
        {
          "output_type": "display_data",
          "data": {
            "text/plain": [
              "<Figure size 720x720 with 0 Axes>"
            ]
          },
          "metadata": {}
        },
        {
          "output_type": "display_data",
          "data": {
            "text/plain": [
              "<Figure size 360x360 with 1 Axes>"
            ],
            "image/png": "[encoded data removed]"
          },
          "metadata": {
            "needs_background": "light"
          }
        },
        {
          "output_type": "display_data",
          "data": {
            "text/plain": [
              "<Figure size 720x720 with 0 Axes>"
            ]
          },
          "metadata": {}
        },
        {
          "output_type": "display_data",
          "data": {
            "text/plain": [
              "<Figure size 360x360 with 1 Axes>"
            ],
            "image/png": "[encoded data removed]"
          },
          "metadata": {
            "needs_background": "light"
          }
        },
        {
          "output_type": "display_data",
          "data": {
            "text/plain": [
              "<Figure size 720x720 with 0 Axes>"
            ]
          },
          "metadata": {}
        },
        {
          "output_type": "display_data",
          "data": {
            "text/plain": [
              "<Figure size 360x360 with 1 Axes>"
            ],
            "image/png": "[encoded data removed]"
          },
          "metadata": {
            "needs_background": "light"
          }
        },
        {
          "output_type": "display_data",
          "data": {
            "text/plain": [
              "<Figure size 720x720 with 0 Axes>"
            ]
          },
          "metadata": {}
        },
        {
          "output_type": "display_data",
          "data": {
            "text/plain": [
              "<Figure size 360x360 with 1 Axes>"
            ],
            "image/png": "[encoded data removed]"
          },
          "metadata": {
            "needs_background": "light"
          }
        },
        {
          "output_type": "display_data",
          "data": {
            "text/plain": [
              "<Figure size 720x720 with 0 Axes>"
            ]
          },
          "metadata": {}
        },
        {
          "output_type": "display_data",
          "data": {
            "text/plain": [
              "<Figure size 360x360 with 1 Axes>"
            ],
            "image/png": "[encoded data removed]"
          },
          "metadata": {
            "needs_background": "light"
          }
        },
        {
          "output_type": "display_data",
          "data": {
            "text/plain": [
              "<Figure size 720x720 with 0 Axes>"
            ]
          },
          "metadata": {}
        },
        {
          "output_type": "display_data",
          "data": {
            "text/plain": [
              "<Figure size 360x360 with 1 Axes>"
            ],
            "image/png": "[encoded data removed]"
          },
          "metadata": {
            "needs_background": "light"
          }
        },
        {
          "output_type": "display_data",
          "data": {
            "text/plain": [
              "<Figure size 720x720 with 0 Axes>"
            ]
          },
          "metadata": {}
        },
        {
          "output_type": "display_data",
          "data": {
            "text/plain": [
              "<Figure size 360x360 with 1 Axes>"
            ],
            "image/png": "[encoded data removed]"
          },
          "metadata": {
            "needs_background": "light"
          }
        },
        {
          "output_type": "display_data",
          "data": {
            "text/plain": [
              "<Figure size 720x720 with 0 Axes>"
            ]
          },
          "metadata": {}
        },
        {
          "output_type": "display_data",
          "data": {
            "text/plain": [
              "<Figure size 360x360 with 1 Axes>"
            ],
            "image/png": "[encoded data removed]"
          },
          "metadata": {
            "needs_background": "light"
          }
        },
        {
          "output_type": "display_data",
          "data": {
            "text/plain": [
              "<Figure size 720x720 with 0 Axes>"
            ]
          },
          "metadata": {}
        },
        {
          "output_type": "display_data",
          "data": {
            "text/plain": [
              "<Figure size 360x360 with 1 Axes>"
            ],
            "image/png": "[encoded data removed]"
          },
          "metadata": {
            "needs_background": "light"
          }
        },
        {
          "output_type": "display_data",
          "data": {
            "text/plain": [
              "<Figure size 720x720 with 0 Axes>"
            ]
          },
          "metadata": {}
        },
        {
          "output_type": "display_data",
          "data": {
            "text/plain": [
              "<Figure size 360x360 with 1 Axes>"
            ],
            "image/png": "[encoded data removed]"
          },
          "metadata": {
            "needs_background": "light"
          }
        },
        {
          "output_type": "display_data",
          "data": {
            "text/plain": [
              "<Figure size 720x720 with 0 Axes>"
            ]
          },
          "metadata": {}
        },
        {
          "output_type": "display_data",
          "data": {
            "text/plain": [
              "<Figure size 360x360 with 1 Axes>"
            ],
            "image/png": "[encoded data removed]"
          },
          "metadata": {
            "needs_background": "light"
          }
        },
        {
          "output_type": "display_data",
          "data": {
            "text/plain": [
              "<Figure size 720x720 with 0 Axes>"
            ]
          },
          "metadata": {}
        },
        {
          "output_type": "display_data",
          "data": {
            "text/plain": [
              "<Figure size 360x360 with 1 Axes>"
            ],
            "image/png": "[encoded data removed]"
          },
          "metadata": {
            "needs_background": "light"
          }
        },
        {
          "output_type": "display_data",
          "data": {
            "text/plain": [
              "<Figure size 720x720 with 0 Axes>"
            ]
          },
          "metadata": {}
        },
        {
          "output_type": "display_data",
          "data": {
            "text/plain": [
              "<Figure size 360x360 with 1 Axes>"
            ],
            "image/png": "[encoded data removed]"
          },
          "metadata": {
            "needs_background": "light"
          }
        }
      ]
    },
    {
      "cell_type": "code",
      "source": [
        "# Bar graph showing distribution of age and the number of steps\n",
        "x = data['age']\n",
        "y = data['steps']\n",
        "sns.barplot(x,y)\n",
        "plt.show()"
      ],
      "metadata": {
        "colab": {
          "base_uri": "https://localhost:8080/",
          "height": 334
        },
        "id": "oWNsjwRyVqp9",
        "outputId": "e39c7483-36b5-4ed6-b0d8-c7f6e05dfe95"
      },
      "execution_count": null,
      "outputs": [
        {
          "output_type": "stream",
          "name": "stderr",
          "text": [
            "/usr/local/lib/python3.7/dist-packages/seaborn/_decorators.py:43: FutureWarning: Pass the following variables as keyword args: x, y. From version 0.12, the only valid positional argument will be `data`, and passing other arguments without an explicit keyword will result in an error or misinterpretation.\n",
            "  FutureWarning\n"
          ]
        },
        {
          "output_type": "display_data",
          "data": {
            "text/plain": [
              "<Figure size 432x288 with 1 Axes>"
            ],
            "image/png": "[encoded data removed]"
          },
          "metadata": {
            "needs_background": "light"
          }
        }
      ]
    },
    {
      "cell_type": "markdown",
      "source": [
        " People who are aged 24 years and 39 years take more steps ."
      ],
      "metadata": {
        "id": "bJmtg5iCXTiG"
      }
    },
    {
      "cell_type": "code",
      "source": [
        "# Correlation of the data\n",
        "print(data.corr())\n",
        "sns.heatmap(data.corr(),annot = False)"
      ],
      "metadata": {
        "colab": {
          "base_uri": "https://localhost:8080/",
          "height": 1000
        },
        "id": "zQF8wcjyXokw",
        "outputId": "9b8d5001-fbb1-474d-9e3b-8021c5d77d8a"
      },
      "execution_count": null,
      "outputs": [
        {
          "output_type": "stream",
          "name": "stdout",
          "text": [
            "                      Unnamed: 0        X1       age    gender    height  \\\n",
            "Unnamed: 0              1.000000  0.449037  0.126539 -0.225263 -0.204343   \n",
            "X1                      0.449037  1.000000  0.299608 -0.465047 -0.369403   \n",
            "age                     0.126539  0.299608  1.000000 -0.236032 -0.518798   \n",
            "gender                 -0.225263 -0.465047 -0.236032  1.000000  0.735852   \n",
            "height                 -0.204343 -0.369403 -0.518798  0.735852  1.000000   \n",
            "weight                 -0.206349 -0.262244 -0.152317  0.580446  0.693504   \n",
            "steps                  -0.252668  0.138594  0.006394 -0.069719  0.025729   \n",
            "hear_rate              -0.067211  0.181164 -0.007665 -0.093476 -0.123519   \n",
            "calories                0.447055 -0.156275 -0.064661  0.071875  0.034447   \n",
            "distance                0.335736  0.055878 -0.061169 -0.051779 -0.091422   \n",
            "entropy_heart          -0.159582 -0.067306 -0.002541 -0.051111 -0.069491   \n",
            "entropy_setps          -0.326790 -0.138498 -0.001528  0.014608  0.049100   \n",
            "resting_heart          -0.160754 -0.130887 -0.022833 -0.082235 -0.028330   \n",
            "corr_heart_steps        0.379415 -0.060269  0.068108 -0.039968 -0.031292   \n",
            "norm_heart              0.052239  0.280584  0.009318 -0.032913 -0.103492   \n",
            "intensity_karvonen     -0.009939  0.308903  0.071297 -0.064392 -0.124562   \n",
            "sd_norm_heart           0.095454  0.298053  0.058018 -0.057793 -0.090542   \n",
            "steps_times_distance    0.149589  0.014122 -0.045816  0.022257 -0.075755   \n",
            "\n",
            "                        weight     steps  hear_rate  calories  distance  \\\n",
            "Unnamed: 0           -0.206349 -0.252668  -0.067211  0.447055  0.335736   \n",
            "X1                   -0.262244  0.138594   0.181164 -0.156275  0.055878   \n",
            "age                  -0.152317  0.006394  -0.007665 -0.064661 -0.061169   \n",
            "gender                0.580446 -0.069719  -0.093476  0.071875 -0.051779   \n",
            "height                0.693504  0.025729  -0.123519  0.034447 -0.091422   \n",
            "weight                1.000000  0.045389  -0.064317 -0.023612 -0.072294   \n",
            "steps                 0.045389  1.000000   0.164084 -0.250973 -0.090433   \n",
            "hear_rate            -0.064317  0.164084   1.000000 -0.141972 -0.068879   \n",
            "calories             -0.023612 -0.250973  -0.141972  1.000000  0.255145   \n",
            "distance             -0.072294 -0.090433  -0.068879  0.255145  1.000000   \n",
            "entropy_heart        -0.156601  0.021579   0.060427  0.001069 -0.056429   \n",
            "entropy_setps        -0.052906  0.086400   0.036693 -0.105678 -0.296744   \n",
            "resting_heart        -0.014345  0.083964   0.382275 -0.055703 -0.320791   \n",
            "corr_heart_steps     -0.064750 -0.229163  -0.174136  0.208055  0.081354   \n",
            "norm_heart           -0.054192  0.102876   0.723648 -0.101669  0.170087   \n",
            "intensity_karvonen   -0.064944  0.144211   0.780478 -0.164999  0.066103   \n",
            "sd_norm_heart        -0.009806  0.112486   0.280313 -0.148178  0.296582   \n",
            "steps_times_distance -0.008666  0.023798   0.064759  0.119908  0.653995   \n",
            "\n",
            "                      entropy_heart  entropy_setps  resting_heart  \\\n",
            "Unnamed: 0                -0.159582      -0.326790      -0.160754   \n",
            "X1                        -0.067306      -0.138498      -0.130887   \n",
            "age                       -0.002541      -0.001528      -0.022833   \n",
            "gender                    -0.051111       0.014608      -0.082235   \n",
            "height                    -0.069491       0.049100      -0.028330   \n",
            "weight                    -0.156601      -0.052906      -0.014345   \n",
            "steps                      0.021579       0.086400       0.083964   \n",
            "hear_rate                  0.060427       0.036693       0.382275   \n",
            "calories                   0.001069      -0.105678      -0.055703   \n",
            "distance                  -0.056429      -0.296744      -0.320791   \n",
            "entropy_heart              1.000000       0.689704       0.097105   \n",
            "entropy_setps              0.689704       1.000000       0.351876   \n",
            "resting_heart              0.097105       0.351876       1.000000   \n",
            "corr_heart_steps          -0.065493      -0.074373      -0.028941   \n",
            "norm_heart                -0.011547      -0.225787      -0.361117   \n",
            "intensity_karvonen         0.045306      -0.122327      -0.218232   \n",
            "sd_norm_heart             -0.266308      -0.425436      -0.301130   \n",
            "steps_times_distance      -0.070797      -0.266456      -0.236255   \n",
            "\n",
            "                      corr_heart_steps  norm_heart  intensity_karvonen  \\\n",
            "Unnamed: 0                    0.379415    0.052239           -0.009939   \n",
            "X1                           -0.060269    0.280584            0.308903   \n",
            "age                           0.068108    0.009318            0.071297   \n",
            "gender                       -0.039968   -0.032913           -0.064392   \n",
            "height                       -0.031292   -0.103492           -0.124562   \n",
            "weight                       -0.064750   -0.054192           -0.064944   \n",
            "steps                        -0.229163    0.102876            0.144211   \n",
            "hear_rate                    -0.174136    0.723648            0.780478   \n",
            "calories                      0.208055   -0.101669           -0.164999   \n",
            "distance                      0.081354    0.170087            0.066103   \n",
            "entropy_heart                -0.065493   -0.011547            0.045306   \n",
            "entropy_setps                -0.074373   -0.225787           -0.122327   \n",
            "resting_heart                -0.028941   -0.361117           -0.218232   \n",
            "corr_heart_steps              1.000000   -0.154116           -0.188050   \n",
            "norm_heart                   -0.154116    1.000000            0.950630   \n",
            "intensity_karvonen           -0.188050    0.950630            1.000000   \n",
            "sd_norm_heart                -0.011376    0.507796            0.460610   \n",
            "steps_times_distance         -0.012402    0.241811            0.144213   \n",
            "\n",
            "                      sd_norm_heart  steps_times_distance  \n",
            "Unnamed: 0                 0.095454              0.149589  \n",
            "X1                         0.298053              0.014122  \n",
            "age                        0.058018             -0.045816  \n",
            "gender                    -0.057793              0.022257  \n",
            "height                    -0.090542             -0.075755  \n",
            "weight                    -0.009806             -0.008666  \n",
            "steps                      0.112486              0.023798  \n",
            "hear_rate                  0.280313              0.064759  \n",
            "calories                  -0.148178              0.119908  \n",
            "distance                   0.296582              0.653995  \n",
            "entropy_heart             -0.266308             -0.070797  \n",
            "entropy_setps             -0.425436             -0.266456  \n",
            "resting_heart             -0.301130             -0.236255  \n",
            "corr_heart_steps          -0.011376             -0.012402  \n",
            "norm_heart                 0.507796              0.241811  \n",
            "intensity_karvonen         0.460610              0.144213  \n",
            "sd_norm_heart              1.000000              0.247049  \n",
            "steps_times_distance       0.247049              1.000000  \n"
          ]
        },
        {
          "output_type": "execute_result",
          "data": {
            "text/plain": [
              "<matplotlib.axes._subplots.AxesSubplot at 0x7f199b65f690>"
            ]
          },
          "metadata": {},
          "execution_count": 9
        },
        {
          "output_type": "display_data",
          "data": {
            "text/plain": [
              "<Figure size 432x288 with 2 Axes>"
            ],
            "image/png": "[encoded data removed]"
          },
          "metadata": {
            "needs_background": "light"
          }
        }
      ]
    },
    {
      "cell_type": "code",
      "source": [
        "df = data[['X1','age','gender','height','weight','steps','hear_rate','calories']]\n",
        "df.head()"
      ],
      "metadata": {
        "colab": {
          "base_uri": "https://localhost:8080/",
          "height": 206
        },
        "id": "lcE6p059UU63",
        "outputId": "a8b02336-61a8-499d-da22-ab07886c2c57"
      },
      "execution_count": null,
      "outputs": [
        {
          "output_type": "execute_result",
          "data": {
            "text/plain": [
              "   X1  age  gender  height  weight      steps  hear_rate   calories\n",
              "0   1   20       1   168.0    65.4  10.771429  78.531302   0.344533\n",
              "1   2   20       1   168.0    65.4  11.475325  78.453390   3.287625\n",
              "2   3   20       1   168.0    65.4  12.179221  78.540825   9.484000\n",
              "3   4   20       1   168.0    65.4  12.883117  78.628260  10.154556\n",
              "4   5   20       1   168.0    65.4  13.587013  78.715695  10.825111"
            ],
            "text/html": [
              "\n",
              "  <div id=\"df-6123cbe1-0959-4ae3-995d-ce8529dce86d\">\n",
              "    <div class=\"colab-df-container\">\n",
              "      <div>\n",
              "<style scoped>\n",
              "    .dataframe tbody tr th:only-of-type {\n",
              "        vertical-align: middle;\n",
              "    }\n",
              "\n",
              "    .dataframe tbody tr th {\n",
              "        vertical-align: top;\n",
              "    }\n",
              "\n",
              "    .dataframe thead th {\n",
              "        text-align: right;\n",
              "    }\n",
              "</style>\n",
              "<table border=\"1\" class=\"dataframe\">\n",
              "  <thead>\n",
              "    <tr style=\"text-align: right;\">\n",
              "      <th></th>\n",
              "      <th>X1</th>\n",
              "      <th>age</th>\n",
              "      <th>gender</th>\n",
              "      <th>height</th>\n",
              "      <th>weight</th>\n",
              "      <th>steps</th>\n",
              "      <th>hear_rate</th>\n",
              "      <th>calories</th>\n",
              "    </tr>\n",
              "  </thead>\n",
              "  <tbody>\n",
              "    <tr>\n",
              "      <th>0</th>\n",
              "      <td>1</td>\n",
              "      <td>20</td>\n",
              "      <td>1</td>\n",
              "      <td>168.0</td>\n",
              "      <td>65.4</td>\n",
              "      <td>10.771429</td>\n",
              "      <td>78.531302</td>\n",
              "      <td>0.344533</td>\n",
              "    </tr>\n",
              "    <tr>\n",
              "      <th>1</th>\n",
              "      <td>2</td>\n",
              "      <td>20</td>\n",
              "      <td>1</td>\n",
              "      <td>168.0</td>\n",
              "      <td>65.4</td>\n",
              "      <td>11.475325</td>\n",
              "      <td>78.453390</td>\n",
              "      <td>3.287625</td>\n",
              "    </tr>\n",
              "    <tr>\n",
              "      <th>2</th>\n",
              "      <td>3</td>\n",
              "      <td>20</td>\n",
              "      <td>1</td>\n",
              "      <td>168.0</td>\n",
              "      <td>65.4</td>\n",
              "      <td>12.179221</td>\n",
              "      <td>78.540825</td>\n",
              "      <td>9.484000</td>\n",
              "    </tr>\n",
              "    <tr>\n",
              "      <th>3</th>\n",
              "      <td>4</td>\n",
              "      <td>20</td>\n",
              "      <td>1</td>\n",
              "      <td>168.0</td>\n",
              "      <td>65.4</td>\n",
              "      <td>12.883117</td>\n",
              "      <td>78.628260</td>\n",
              "      <td>10.154556</td>\n",
              "    </tr>\n",
              "    <tr>\n",
              "      <th>4</th>\n",
              "      <td>5</td>\n",
              "      <td>20</td>\n",
              "      <td>1</td>\n",
              "      <td>168.0</td>\n",
              "      <td>65.4</td>\n",
              "      <td>13.587013</td>\n",
              "      <td>78.715695</td>\n",
              "      <td>10.825111</td>\n",
              "    </tr>\n",
              "  </tbody>\n",
              "</table>\n",
              "</div>\n",
              "      <button class=\"colab-df-convert\" onclick=\"convertToInteractive('df-6123cbe1-0959-4ae3-995d-ce8529dce86d')\"\n",
              "              title=\"Convert this dataframe to an interactive table.\"\n",
              "              style=\"display:none;\">\n",
              "        \n",
              "  <svg xmlns=\"http://www.w3.org/2000/svg\" height=\"24px\"viewBox=\"0 0 24 24\"\n",
              "       width=\"24px\">\n",
              "    <path d=\"M0 0h24v24H0V0z\" fill=\"none\"/>\n",
              "    <path d=\"M18.56 5.44l.94 2.06.94-2.06 2.06-.94-2.06-.94-.94-2.06-.94 2.06-2.06.94zm-11 1L8.5 8.5l.94-2.06 2.06-.94-2.06-.94L8.5 2.5l-.94 2.06-2.06.94zm10 10l.94 2.06.94-2.06 2.06-.94-2.06-.94-.94-2.06-.94 2.06-2.06.94z\"/><path d=\"M17.41 7.96l-1.37-1.37c-.4-.4-.92-.59-1.43-.59-.52 0-1.04.2-1.43.59L10.3 9.45l-7.72 7.72c-.78.78-.78 2.05 0 2.83L4 21.41c.39.39.9.59 1.41.59.51 0 1.02-.2 1.41-.59l7.78-7.78 2.81-2.81c.8-.78.8-2.07 0-2.86zM5.41 20L4 18.59l7.72-7.72 1.47 1.35L5.41 20z\"/>\n",
              "  </svg>\n",
              "      </button>\n",
              "      \n",
              "  <style>\n",
              "    .colab-df-container {\n",
              "      display:flex;\n",
              "      flex-wrap:wrap;\n",
              "      gap: 12px;\n",
              "    }\n",
              "\n",
              "    .colab-df-convert {\n",
              "      background-color: #E8F0FE;\n",
              "      border: none;\n",
              "      border-radius: 50%;\n",
              "      cursor: pointer;\n",
              "      display: none;\n",
              "      fill: #1967D2;\n",
              "      height: 32px;\n",
              "      padding: 0 0 0 0;\n",
              "      width: 32px;\n",
              "    }\n",
              "\n",
              "    .colab-df-convert:hover {\n",
              "      background-color: #E2EBFA;\n",
              "      box-shadow: 0px 1px 2px rgba(60, 64, 67, 0.3), 0px 1px 3px 1px rgba(60, 64, 67, 0.15);\n",
              "      fill: #174EA6;\n",
              "    }\n",
              "\n",
              "    [theme=dark] .colab-df-convert {\n",
              "      background-color: #3B4455;\n",
              "      fill: #D2E3FC;\n",
              "    }\n",
              "\n",
              "    [theme=dark] .colab-df-convert:hover {\n",
              "      background-color: #434B5C;\n",
              "      box-shadow: 0px 1px 3px 1px rgba(0, 0, 0, 0.15);\n",
              "      filter: drop-shadow(0px 1px 2px rgba(0, 0, 0, 0.3));\n",
              "      fill: #FFFFFF;\n",
              "    }\n",
              "  </style>\n",
              "\n",
              "      <script>\n",
              "        const buttonEl =\n",
              "          document.querySelector('#df-6123cbe1-0959-4ae3-995d-ce8529dce86d button.colab-df-convert');\n",
              "        buttonEl.style.display =\n",
              "          google.colab.kernel.accessAllowed ? 'block' : 'none';\n",
              "\n",
              "        async function convertToInteractive(key) {\n",
              "          const element = document.querySelector('#df-6123cbe1-0959-4ae3-995d-ce8529dce86d');\n",
              "          const dataTable =\n",
              "            await google.colab.kernel.invokeFunction('convertToInteractive',\n",
              "                                                     [key], {});\n",
              "          if (!dataTable) return;\n",
              "\n",
              "          const docLinkHtml = 'Like what you see? Visit the ' +\n",
              "            '<a target=\"_blank\" href=https://colab.research.google.com/notebooks/data_table.ipynb>data table notebook</a>'\n",
              "            + ' to learn more about interactive tables.';\n",
              "          element.innerHTML = '';\n",
              "          dataTable['output_type'] = 'display_data';\n",
              "          await google.colab.output.renderOutput(dataTable, element);\n",
              "          const docLink = document.createElement('div');\n",
              "          docLink.innerHTML = docLinkHtml;\n",
              "          element.appendChild(docLink);\n",
              "        }\n",
              "      </script>\n",
              "    </div>\n",
              "  </div>\n",
              "  "
            ]
          },
          "metadata": {},
          "execution_count": 10
        }
      ]
    },
    {
      "cell_type": "markdown",
      "source": [
        "## Clustering : Weight and number of steps"
      ],
      "metadata": {
        "id": "TzcXVAOEa4Wv"
      }
    },
    {
      "cell_type": "code",
      "source": [
        "#Feature selection for the model\n",
        "# Age and steps\n",
        "df1 = df[['X1','weight','steps']] # A dataframe for age and steps\n",
        "df1.head()"
      ],
      "metadata": {
        "colab": {
          "base_uri": "https://localhost:8080/",
          "height": 206
        },
        "id": "oqX8TSKsmMpI",
        "outputId": "b0677d16-6d14-4685-d763-e960c09a1055"
      },
      "execution_count": null,
      "outputs": [
        {
          "output_type": "execute_result",
          "data": {
            "text/plain": [
              "   X1  weight      steps\n",
              "0   1    65.4  10.771429\n",
              "1   2    65.4  11.475325\n",
              "2   3    65.4  12.179221\n",
              "3   4    65.4  12.883117\n",
              "4   5    65.4  13.587013"
            ],
            "text/html": [
              "\n",
              "  <div id=\"df-89b983f3-01b9-4350-b28d-041bc0879310\">\n",
              "    <div class=\"colab-df-container\">\n",
              "      <div>\n",
              "<style scoped>\n",
              "    .dataframe tbody tr th:only-of-type {\n",
              "        vertical-align: middle;\n",
              "    }\n",
              "\n",
              "    .dataframe tbody tr th {\n",
              "        vertical-align: top;\n",
              "    }\n",
              "\n",
              "    .dataframe thead th {\n",
              "        text-align: right;\n",
              "    }\n",
              "</style>\n",
              "<table border=\"1\" class=\"dataframe\">\n",
              "  <thead>\n",
              "    <tr style=\"text-align: right;\">\n",
              "      <th></th>\n",
              "      <th>X1</th>\n",
              "      <th>weight</th>\n",
              "      <th>steps</th>\n",
              "    </tr>\n",
              "  </thead>\n",
              "  <tbody>\n",
              "    <tr>\n",
              "      <th>0</th>\n",
              "      <td>1</td>\n",
              "      <td>65.4</td>\n",
              "      <td>10.771429</td>\n",
              "    </tr>\n",
              "    <tr>\n",
              "      <th>1</th>\n",
              "      <td>2</td>\n",
              "      <td>65.4</td>\n",
              "      <td>11.475325</td>\n",
              "    </tr>\n",
              "    <tr>\n",
              "      <th>2</th>\n",
              "      <td>3</td>\n",
              "      <td>65.4</td>\n",
              "      <td>12.179221</td>\n",
              "    </tr>\n",
              "    <tr>\n",
              "      <th>3</th>\n",
              "      <td>4</td>\n",
              "      <td>65.4</td>\n",
              "      <td>12.883117</td>\n",
              "    </tr>\n",
              "    <tr>\n",
              "      <th>4</th>\n",
              "      <td>5</td>\n",
              "      <td>65.4</td>\n",
              "      <td>13.587013</td>\n",
              "    </tr>\n",
              "  </tbody>\n",
              "</table>\n",
              "</div>\n",
              "      <button class=\"colab-df-convert\" onclick=\"convertToInteractive('df-89b983f3-01b9-4350-b28d-041bc0879310')\"\n",
              "              title=\"Convert this dataframe to an interactive table.\"\n",
              "              style=\"display:none;\">\n",
              "        \n",
              "  <svg xmlns=\"http://www.w3.org/2000/svg\" height=\"24px\"viewBox=\"0 0 24 24\"\n",
              "       width=\"24px\">\n",
              "    <path d=\"M0 0h24v24H0V0z\" fill=\"none\"/>\n",
              "    <path d=\"M18.56 5.44l.94 2.06.94-2.06 2.06-.94-2.06-.94-.94-2.06-.94 2.06-2.06.94zm-11 1L8.5 8.5l.94-2.06 2.06-.94-2.06-.94L8.5 2.5l-.94 2.06-2.06.94zm10 10l.94 2.06.94-2.06 2.06-.94-2.06-.94-.94-2.06-.94 2.06-2.06.94z\"/><path d=\"M17.41 7.96l-1.37-1.37c-.4-.4-.92-.59-1.43-.59-.52 0-1.04.2-1.43.59L10.3 9.45l-7.72 7.72c-.78.78-.78 2.05 0 2.83L4 21.41c.39.39.9.59 1.41.59.51 0 1.02-.2 1.41-.59l7.78-7.78 2.81-2.81c.8-.78.8-2.07 0-2.86zM5.41 20L4 18.59l7.72-7.72 1.47 1.35L5.41 20z\"/>\n",
              "  </svg>\n",
              "      </button>\n",
              "      \n",
              "  <style>\n",
              "    .colab-df-container {\n",
              "      display:flex;\n",
              "      flex-wrap:wrap;\n",
              "      gap: 12px;\n",
              "    }\n",
              "\n",
              "    .colab-df-convert {\n",
              "      background-color: #E8F0FE;\n",
              "      border: none;\n",
              "      border-radius: 50%;\n",
              "      cursor: pointer;\n",
              "      display: none;\n",
              "      fill: #1967D2;\n",
              "      height: 32px;\n",
              "      padding: 0 0 0 0;\n",
              "      width: 32px;\n",
              "    }\n",
              "\n",
              "    .colab-df-convert:hover {\n",
              "      background-color: #E2EBFA;\n",
              "      box-shadow: 0px 1px 2px rgba(60, 64, 67, 0.3), 0px 1px 3px 1px rgba(60, 64, 67, 0.15);\n",
              "      fill: #174EA6;\n",
              "    }\n",
              "\n",
              "    [theme=dark] .colab-df-convert {\n",
              "      background-color: #3B4455;\n",
              "      fill: #D2E3FC;\n",
              "    }\n",
              "\n",
              "    [theme=dark] .colab-df-convert:hover {\n",
              "      background-color: #434B5C;\n",
              "      box-shadow: 0px 1px 3px 1px rgba(0, 0, 0, 0.15);\n",
              "      filter: drop-shadow(0px 1px 2px rgba(0, 0, 0, 0.3));\n",
              "      fill: #FFFFFF;\n",
              "    }\n",
              "  </style>\n",
              "\n",
              "      <script>\n",
              "        const buttonEl =\n",
              "          document.querySelector('#df-89b983f3-01b9-4350-b28d-041bc0879310 button.colab-df-convert');\n",
              "        buttonEl.style.display =\n",
              "          google.colab.kernel.accessAllowed ? 'block' : 'none';\n",
              "\n",
              "        async function convertToInteractive(key) {\n",
              "          const element = document.querySelector('#df-89b983f3-01b9-4350-b28d-041bc0879310');\n",
              "          const dataTable =\n",
              "            await google.colab.kernel.invokeFunction('convertToInteractive',\n",
              "                                                     [key], {});\n",
              "          if (!dataTable) return;\n",
              "\n",
              "          const docLinkHtml = 'Like what you see? Visit the ' +\n",
              "            '<a target=\"_blank\" href=https://colab.research.google.com/notebooks/data_table.ipynb>data table notebook</a>'\n",
              "            + ' to learn more about interactive tables.';\n",
              "          element.innerHTML = '';\n",
              "          dataTable['output_type'] = 'display_data';\n",
              "          await google.colab.output.renderOutput(dataTable, element);\n",
              "          const docLink = document.createElement('div');\n",
              "          docLink.innerHTML = docLinkHtml;\n",
              "          element.appendChild(docLink);\n",
              "        }\n",
              "      </script>\n",
              "    </div>\n",
              "  </div>\n",
              "  "
            ]
          },
          "metadata": {},
          "execution_count": 11
        }
      ]
    },
    {
      "cell_type": "code",
      "source": [
        "# Scaling\n",
        "from sklearn import preprocessing\n",
        "a = df1.values\n",
        "min_max_scaler = preprocessing.MinMaxScaler()\n",
        "x_scaled = min_max_scaler.fit_transform(a)\n",
        "a_scaled = pd.DataFrame(x_scaled,columns = df1.columns)\n"
      ],
      "metadata": {
        "id": "oua7_14NUwyS"
      },
      "execution_count": null,
      "outputs": []
    },
    {
      "cell_type": "code",
      "source": [
        "a_scaled"
      ],
      "metadata": {
        "colab": {
          "base_uri": "https://localhost:8080/",
          "height": 424
        },
        "id": "XTO3o0oHVvV6",
        "outputId": "6abe5c95-d59f-4bd2-ad12-14257772691a"
      },
      "execution_count": null,
      "outputs": [
        {
          "output_type": "execute_result",
          "data": {
            "text/plain": [
              "            X1    weight     steps\n",
              "0     0.000000  0.311111  0.005704\n",
              "1     0.000273  0.311111  0.006115\n",
              "2     0.000545  0.311111  0.006526\n",
              "3     0.000818  0.311111  0.006937\n",
              "4     0.001090  0.311111  0.007348\n",
              "...        ...       ...       ...\n",
              "6259  0.998910  0.394444  0.000000\n",
              "6260  0.999182  0.394444  0.000000\n",
              "6261  0.999455  0.394444  0.000000\n",
              "6262  0.999727  0.394444  0.000000\n",
              "6263  1.000000  0.394444  0.000000\n",
              "\n",
              "[6264 rows x 3 columns]"
            ],
            "text/html": [
              "\n",
              "  <div id=\"df-338359b6-3ee8-45b4-82eb-910b2121b40b\">\n",
              "    <div class=\"colab-df-container\">\n",
              "      <div>\n",
              "<style scoped>\n",
              "    .dataframe tbody tr th:only-of-type {\n",
              "        vertical-align: middle;\n",
              "    }\n",
              "\n",
              "    .dataframe tbody tr th {\n",
              "        vertical-align: top;\n",
              "    }\n",
              "\n",
              "    .dataframe thead th {\n",
              "        text-align: right;\n",
              "    }\n",
              "</style>\n",
              "<table border=\"1\" class=\"dataframe\">\n",
              "  <thead>\n",
              "    <tr style=\"text-align: right;\">\n",
              "      <th></th>\n",
              "      <th>X1</th>\n",
              "      <th>weight</th>\n",
              "      <th>steps</th>\n",
              "    </tr>\n",
              "  </thead>\n",
              "  <tbody>\n",
              "    <tr>\n",
              "      <th>0</th>\n",
              "      <td>0.000000</td>\n",
              "      <td>0.311111</td>\n",
              "      <td>0.005704</td>\n",
              "    </tr>\n",
              "    <tr>\n",
              "      <th>1</th>\n",
              "      <td>0.000273</td>\n",
              "      <td>0.311111</td>\n",
              "      <td>0.006115</td>\n",
              "    </tr>\n",
              "    <tr>\n",
              "      <th>2</th>\n",
              "      <td>0.000545</td>\n",
              "      <td>0.311111</td>\n",
              "      <td>0.006526</td>\n",
              "    </tr>\n",
              "    <tr>\n",
              "      <th>3</th>\n",
              "      <td>0.000818</td>\n",
              "      <td>0.311111</td>\n",
              "      <td>0.006937</td>\n",
              "    </tr>\n",
              "    <tr>\n",
              "      <th>4</th>\n",
              "      <td>0.001090</td>\n",
              "      <td>0.311111</td>\n",
              "      <td>0.007348</td>\n",
              "    </tr>\n",
              "    <tr>\n",
              "      <th>...</th>\n",
              "      <td>...</td>\n",
              "      <td>...</td>\n",
              "      <td>...</td>\n",
              "    </tr>\n",
              "    <tr>\n",
              "      <th>6259</th>\n",
              "      <td>0.998910</td>\n",
              "      <td>0.394444</td>\n",
              "      <td>0.000000</td>\n",
              "    </tr>\n",
              "    <tr>\n",
              "      <th>6260</th>\n",
              "      <td>0.999182</td>\n",
              "      <td>0.394444</td>\n",
              "      <td>0.000000</td>\n",
              "    </tr>\n",
              "    <tr>\n",
              "      <th>6261</th>\n",
              "      <td>0.999455</td>\n",
              "      <td>0.394444</td>\n",
              "      <td>0.000000</td>\n",
              "    </tr>\n",
              "    <tr>\n",
              "      <th>6262</th>\n",
              "      <td>0.999727</td>\n",
              "      <td>0.394444</td>\n",
              "      <td>0.000000</td>\n",
              "    </tr>\n",
              "    <tr>\n",
              "      <th>6263</th>\n",
              "      <td>1.000000</td>\n",
              "      <td>0.394444</td>\n",
              "      <td>0.000000</td>\n",
              "    </tr>\n",
              "  </tbody>\n",
              "</table>\n",
              "<p>6264 rows × 3 columns</p>\n",
              "</div>\n",
              "      <button class=\"colab-df-convert\" onclick=\"convertToInteractive('df-338359b6-3ee8-45b4-82eb-910b2121b40b')\"\n",
              "              title=\"Convert this dataframe to an interactive table.\"\n",
              "              style=\"display:none;\">\n",
              "        \n",
              "  <svg xmlns=\"http://www.w3.org/2000/svg\" height=\"24px\"viewBox=\"0 0 24 24\"\n",
              "       width=\"24px\">\n",
              "    <path d=\"M0 0h24v24H0V0z\" fill=\"none\"/>\n",
              "    <path d=\"M18.56 5.44l.94 2.06.94-2.06 2.06-.94-2.06-.94-.94-2.06-.94 2.06-2.06.94zm-11 1L8.5 8.5l.94-2.06 2.06-.94-2.06-.94L8.5 2.5l-.94 2.06-2.06.94zm10 10l.94 2.06.94-2.06 2.06-.94-2.06-.94-.94-2.06-.94 2.06-2.06.94z\"/><path d=\"M17.41 7.96l-1.37-1.37c-.4-.4-.92-.59-1.43-.59-.52 0-1.04.2-1.43.59L10.3 9.45l-7.72 7.72c-.78.78-.78 2.05 0 2.83L4 21.41c.39.39.9.59 1.41.59.51 0 1.02-.2 1.41-.59l7.78-7.78 2.81-2.81c.8-.78.8-2.07 0-2.86zM5.41 20L4 18.59l7.72-7.72 1.47 1.35L5.41 20z\"/>\n",
              "  </svg>\n",
              "      </button>\n",
              "      \n",
              "  <style>\n",
              "    .colab-df-container {\n",
              "      display:flex;\n",
              "      flex-wrap:wrap;\n",
              "      gap: 12px;\n",
              "    }\n",
              "\n",
              "    .colab-df-convert {\n",
              "      background-color: #E8F0FE;\n",
              "      border: none;\n",
              "      border-radius: 50%;\n",
              "      cursor: pointer;\n",
              "      display: none;\n",
              "      fill: #1967D2;\n",
              "      height: 32px;\n",
              "      padding: 0 0 0 0;\n",
              "      width: 32px;\n",
              "    }\n",
              "\n",
              "    .colab-df-convert:hover {\n",
              "      background-color: #E2EBFA;\n",
              "      box-shadow: 0px 1px 2px rgba(60, 64, 67, 0.3), 0px 1px 3px 1px rgba(60, 64, 67, 0.15);\n",
              "      fill: #174EA6;\n",
              "    }\n",
              "\n",
              "    [theme=dark] .colab-df-convert {\n",
              "      background-color: #3B4455;\n",
              "      fill: #D2E3FC;\n",
              "    }\n",
              "\n",
              "    [theme=dark] .colab-df-convert:hover {\n",
              "      background-color: #434B5C;\n",
              "      box-shadow: 0px 1px 3px 1px rgba(0, 0, 0, 0.15);\n",
              "      filter: drop-shadow(0px 1px 2px rgba(0, 0, 0, 0.3));\n",
              "      fill: #FFFFFF;\n",
              "    }\n",
              "  </style>\n",
              "\n",
              "      <script>\n",
              "        const buttonEl =\n",
              "          document.querySelector('#df-338359b6-3ee8-45b4-82eb-910b2121b40b button.colab-df-convert');\n",
              "        buttonEl.style.display =\n",
              "          google.colab.kernel.accessAllowed ? 'block' : 'none';\n",
              "\n",
              "        async function convertToInteractive(key) {\n",
              "          const element = document.querySelector('#df-338359b6-3ee8-45b4-82eb-910b2121b40b');\n",
              "          const dataTable =\n",
              "            await google.colab.kernel.invokeFunction('convertToInteractive',\n",
              "                                                     [key], {});\n",
              "          if (!dataTable) return;\n",
              "\n",
              "          const docLinkHtml = 'Like what you see? Visit the ' +\n",
              "            '<a target=\"_blank\" href=https://colab.research.google.com/notebooks/data_table.ipynb>data table notebook</a>'\n",
              "            + ' to learn more about interactive tables.';\n",
              "          element.innerHTML = '';\n",
              "          dataTable['output_type'] = 'display_data';\n",
              "          await google.colab.output.renderOutput(dataTable, element);\n",
              "          const docLink = document.createElement('div');\n",
              "          docLink.innerHTML = docLinkHtml;\n",
              "          element.appendChild(docLink);\n",
              "        }\n",
              "      </script>\n",
              "    </div>\n",
              "  </div>\n",
              "  "
            ]
          },
          "metadata": {},
          "execution_count": 13
        }
      ]
    },
    {
      "cell_type": "code",
      "source": [
        "# Scatter plot between weight and steps taken\n",
        "sns.scatterplot(x = 'weight',y='steps',hue = 'X1',data = a_scaled)"
      ],
      "metadata": {
        "colab": {
          "base_uri": "https://localhost:8080/",
          "height": 296
        },
        "id": "B42v-DeSwiFe",
        "outputId": "b8949c99-b7a0-42c6-c75d-3aa9edb0a354"
      },
      "execution_count": null,
      "outputs": [
        {
          "output_type": "execute_result",
          "data": {
            "text/plain": [
              "<matplotlib.axes._subplots.AxesSubplot at 0x7f199abe2290>"
            ]
          },
          "metadata": {},
          "execution_count": 14
        },
        {
          "output_type": "display_data",
          "data": {
            "text/plain": [
              "<Figure size 432x288 with 1 Axes>"
            ],
            "image/png": "[encoded data removed]"
          },
          "metadata": {
            "needs_background": "light"
          }
        }
      ]
    },
    {
      "cell_type": "code",
      "source": [
        "#Segmentation using age and number of steps\n",
        "# Importing KMeans\n",
        "from sklearn.cluster import KMeans\n"
      ],
      "metadata": {
        "id": "XIcnXObGa9w_"
      },
      "execution_count": null,
      "outputs": []
    },
    {
      "cell_type": "code",
      "source": [
        "# Calculating the Within Class Sum of Squared Errors for different values of k (clusters)\n",
        "wcss = []\n",
        "for i in range (1,11):\n",
        "  km = KMeans(n_clusters = i)\n",
        "  km.fit(a_scaled)\n",
        "  wcss.append(km.inertia_)\n",
        ""
      ],
      "metadata": {
        "id": "VyEk4oPAc1rv"
      },
      "execution_count": null,
      "outputs": []
    },
    {
      "cell_type": "code",
      "source": [
        "wcss # Within class sum of squared errors value"
      ],
      "metadata": {
        "colab": {
          "base_uri": "https://localhost:8080/"
        },
        "id": "30h0jGU7W7qM",
        "outputId": "aca8ff4b-6e8e-4a34-ff8d-db24fa37ee3b"
      },
      "execution_count": null,
      "outputs": [
        {
          "output_type": "execute_result",
          "data": {
            "text/plain": [
              "[885.46052324941,\n",
              " 422.96874572760225,\n",
              " 323.31333673627535,\n",
              " 266.8865245039723,\n",
              " 226.53751808692016,\n",
              " 193.6861418642889,\n",
              " 168.33579809060404,\n",
              " 148.91165222278147,\n",
              " 135.87545031286388,\n",
              " 117.74875730026055]"
            ]
          },
          "metadata": {},
          "execution_count": 17
        }
      ]
    },
    {
      "cell_type": "code",
      "source": [
        "#Plotting the elbow curve\n",
        "plt.figure(figsize = (10,10))\n",
        "plt.plot(range(1,11),wcss,linewidth = 3,color = \"red\",marker = \"8\")\n",
        "plt.xlabel('K - Value')\n",
        "plt.ylabel('WCSS')\n",
        "plt.show()"
      ],
      "metadata": {
        "colab": {
          "base_uri": "https://localhost:8080/",
          "height": 606
        },
        "id": "Wg3HqPxRlljz",
        "outputId": "9b76f652-cdbe-4156-a9be-69c93824460a"
      },
      "execution_count": null,
      "outputs": [
        {
          "output_type": "display_data",
          "data": {
            "text/plain": [
              "<Figure size 720x720 with 1 Axes>"
            ],
            "image/png": "[encoded data removed]"
          },
          "metadata": {
            "needs_background": "light"
          }
        }
      ]
    },
    {
      "cell_type": "markdown",
      "source": [
        "The point where WCSS stops decreasing is at 3 . Therefore we will set the k value at 3"
      ],
      "metadata": {
        "id": "gTyN0lXLlxk2"
      }
    },
    {
      "cell_type": "code",
      "source": [
        "#Taking 3 clusters\n",
        "km = KMeans(n_clusters = 3)\n",
        "km.fit(a_scaled) # Fitting the input data\n",
        "y = km.fit_predict(a_scaled)\n",
        "a_scaled[\"cluster\"] = y # adding a new column to the customer data\n",
        "a_scaled.head()"
      ],
      "metadata": {
        "colab": {
          "base_uri": "https://localhost:8080/",
          "height": 206
        },
        "id": "RQUtIrWgpGCD",
        "outputId": "ff645cce-3660-4ab9-e134-f89ced6583e2"
      },
      "execution_count": null,
      "outputs": [
        {
          "output_type": "execute_result",
          "data": {
            "text/plain": [
              "         X1    weight     steps  cluster\n",
              "0  0.000000  0.311111  0.005704        1\n",
              "1  0.000273  0.311111  0.006115        1\n",
              "2  0.000545  0.311111  0.006526        1\n",
              "3  0.000818  0.311111  0.006937        1\n",
              "4  0.001090  0.311111  0.007348        1"
            ],
            "text/html": [
              "\n",
              "  <div id=\"df-fa63b85f-d9e5-4ce4-9a2b-40e2e4b0c7bc\">\n",
              "    <div class=\"colab-df-container\">\n",
              "      <div>\n",
              "<style scoped>\n",
              "    .dataframe tbody tr th:only-of-type {\n",
              "        vertical-align: middle;\n",
              "    }\n",
              "\n",
              "    .dataframe tbody tr th {\n",
              "        vertical-align: top;\n",
              "    }\n",
              "\n",
              "    .dataframe thead th {\n",
              "        text-align: right;\n",
              "    }\n",
              "</style>\n",
              "<table border=\"1\" class=\"dataframe\">\n",
              "  <thead>\n",
              "    <tr style=\"text-align: right;\">\n",
              "      <th></th>\n",
              "      <th>X1</th>\n",
              "      <th>weight</th>\n",
              "      <th>steps</th>\n",
              "      <th>cluster</th>\n",
              "    </tr>\n",
              "  </thead>\n",
              "  <tbody>\n",
              "    <tr>\n",
              "      <th>0</th>\n",
              "      <td>0.000000</td>\n",
              "      <td>0.311111</td>\n",
              "      <td>0.005704</td>\n",
              "      <td>1</td>\n",
              "    </tr>\n",
              "    <tr>\n",
              "      <th>1</th>\n",
              "      <td>0.000273</td>\n",
              "      <td>0.311111</td>\n",
              "      <td>0.006115</td>\n",
              "      <td>1</td>\n",
              "    </tr>\n",
              "    <tr>\n",
              "      <th>2</th>\n",
              "      <td>0.000545</td>\n",
              "      <td>0.311111</td>\n",
              "      <td>0.006526</td>\n",
              "      <td>1</td>\n",
              "    </tr>\n",
              "    <tr>\n",
              "      <th>3</th>\n",
              "      <td>0.000818</td>\n",
              "      <td>0.311111</td>\n",
              "      <td>0.006937</td>\n",
              "      <td>1</td>\n",
              "    </tr>\n",
              "    <tr>\n",
              "      <th>4</th>\n",
              "      <td>0.001090</td>\n",
              "      <td>0.311111</td>\n",
              "      <td>0.007348</td>\n",
              "      <td>1</td>\n",
              "    </tr>\n",
              "  </tbody>\n",
              "</table>\n",
              "</div>\n",
              "      <button class=\"colab-df-convert\" onclick=\"convertToInteractive('df-fa63b85f-d9e5-4ce4-9a2b-40e2e4b0c7bc')\"\n",
              "              title=\"Convert this dataframe to an interactive table.\"\n",
              "              style=\"display:none;\">\n",
              "        \n",
              "  <svg xmlns=\"http://www.w3.org/2000/svg\" height=\"24px\"viewBox=\"0 0 24 24\"\n",
              "       width=\"24px\">\n",
              "    <path d=\"M0 0h24v24H0V0z\" fill=\"none\"/>\n",
              "    <path d=\"M18.56 5.44l.94 2.06.94-2.06 2.06-.94-2.06-.94-.94-2.06-.94 2.06-2.06.94zm-11 1L8.5 8.5l.94-2.06 2.06-.94-2.06-.94L8.5 2.5l-.94 2.06-2.06.94zm10 10l.94 2.06.94-2.06 2.06-.94-2.06-.94-.94-2.06-.94 2.06-2.06.94z\"/><path d=\"M17.41 7.96l-1.37-1.37c-.4-.4-.92-.59-1.43-.59-.52 0-1.04.2-1.43.59L10.3 9.45l-7.72 7.72c-.78.78-.78 2.05 0 2.83L4 21.41c.39.39.9.59 1.41.59.51 0 1.02-.2 1.41-.59l7.78-7.78 2.81-2.81c.8-.78.8-2.07 0-2.86zM5.41 20L4 18.59l7.72-7.72 1.47 1.35L5.41 20z\"/>\n",
              "  </svg>\n",
              "      </button>\n",
              "      \n",
              "  <style>\n",
              "    .colab-df-container {\n",
              "      display:flex;\n",
              "      flex-wrap:wrap;\n",
              "      gap: 12px;\n",
              "    }\n",
              "\n",
              "    .colab-df-convert {\n",
              "      background-color: #E8F0FE;\n",
              "      border: none;\n",
              "      border-radius: 50%;\n",
              "      cursor: pointer;\n",
              "      display: none;\n",
              "      fill: #1967D2;\n",
              "      height: 32px;\n",
              "      padding: 0 0 0 0;\n",
              "      width: 32px;\n",
              "    }\n",
              "\n",
              "    .colab-df-convert:hover {\n",
              "      background-color: #E2EBFA;\n",
              "      box-shadow: 0px 1px 2px rgba(60, 64, 67, 0.3), 0px 1px 3px 1px rgba(60, 64, 67, 0.15);\n",
              "      fill: #174EA6;\n",
              "    }\n",
              "\n",
              "    [theme=dark] .colab-df-convert {\n",
              "      background-color: #3B4455;\n",
              "      fill: #D2E3FC;\n",
              "    }\n",
              "\n",
              "    [theme=dark] .colab-df-convert:hover {\n",
              "      background-color: #434B5C;\n",
              "      box-shadow: 0px 1px 3px 1px rgba(0, 0, 0, 0.15);\n",
              "      filter: drop-shadow(0px 1px 2px rgba(0, 0, 0, 0.3));\n",
              "      fill: #FFFFFF;\n",
              "    }\n",
              "  </style>\n",
              "\n",
              "      <script>\n",
              "        const buttonEl =\n",
              "          document.querySelector('#df-fa63b85f-d9e5-4ce4-9a2b-40e2e4b0c7bc button.colab-df-convert');\n",
              "        buttonEl.style.display =\n",
              "          google.colab.kernel.accessAllowed ? 'block' : 'none';\n",
              "\n",
              "        async function convertToInteractive(key) {\n",
              "          const element = document.querySelector('#df-fa63b85f-d9e5-4ce4-9a2b-40e2e4b0c7bc');\n",
              "          const dataTable =\n",
              "            await google.colab.kernel.invokeFunction('convertToInteractive',\n",
              "                                                     [key], {});\n",
              "          if (!dataTable) return;\n",
              "\n",
              "          const docLinkHtml = 'Like what you see? Visit the ' +\n",
              "            '<a target=\"_blank\" href=https://colab.research.google.com/notebooks/data_table.ipynb>data table notebook</a>'\n",
              "            + ' to learn more about interactive tables.';\n",
              "          element.innerHTML = '';\n",
              "          dataTable['output_type'] = 'display_data';\n",
              "          await google.colab.output.renderOutput(dataTable, element);\n",
              "          const docLink = document.createElement('div');\n",
              "          docLink.innerHTML = docLinkHtml;\n",
              "          element.appendChild(docLink);\n",
              "        }\n",
              "      </script>\n",
              "    </div>\n",
              "  </div>\n",
              "  "
            ]
          },
          "metadata": {},
          "execution_count": 19
        }
      ]
    },
    {
      "cell_type": "code",
      "source": [
        "km.cluster_centers_"
      ],
      "metadata": {
        "colab": {
          "base_uri": "https://localhost:8080/"
        },
        "id": "kT0kyuyig7Ie",
        "outputId": "083b6918-4423-4037-c6c9-fd779b25cef5"
      },
      "execution_count": null,
      "outputs": [
        {
          "output_type": "execute_result",
          "data": {
            "text/plain": [
              "array([[0.8072541 , 0.25828084, 0.07099701],\n",
              "       [0.19716211, 0.38122002, 0.03236635],\n",
              "       [0.51392242, 0.57743872, 0.12573548]])"
            ]
          },
          "metadata": {},
          "execution_count": 20
        }
      ]
    },
    {
      "cell_type": "markdown",
      "source": [
        "The above are the centers for each cluster.So for cluster one the center for weight is 0.25828084 and for steps taken is 0.07099701."
      ],
      "metadata": {
        "id": "UylASU33379g"
      }
    },
    {
      "cell_type": "code",
      "source": [
        "#View the clusters\n",
        "a_scaled['cluster'].unique()"
      ],
      "metadata": {
        "colab": {
          "base_uri": "https://localhost:8080/"
        },
        "id": "mhbW63O-p1LZ",
        "outputId": "cb310830-2ee8-49ef-cad7-6df02a9b817f"
      },
      "execution_count": null,
      "outputs": [
        {
          "output_type": "execute_result",
          "data": {
            "text/plain": [
              "array([1, 2, 0], dtype=int32)"
            ]
          },
          "metadata": {},
          "execution_count": 21
        }
      ]
    },
    {
      "cell_type": "code",
      "source": [
        "# View the distribution of ages\n",
        "df1.weight.unique()"
      ],
      "metadata": {
        "colab": {
          "base_uri": "https://localhost:8080/"
        },
        "id": "GsprVDjfdnNj",
        "outputId": "152b24bf-d920-42af-cc5d-04a09ad8da79"
      },
      "execution_count": null,
      "outputs": [
        {
          "output_type": "execute_result",
          "data": {
            "text/plain": [
              "array([ 65.4,  68. ,  43. ,  72.7,  72.5,  95.2,  79.3,  76.7,  77.3,\n",
              "        74. ,  79.4,  49.2,  75.9,  65.7,  81.8,  75. ,  85. ,  53.6,\n",
              "        70.3,  65.9,  59.1, 105.7,  85.7, 115. ,  90. ,  72. ,  62.7,\n",
              "        70. ,  83.6,  88. ,  61. ,  80. ,  62. ,  56. ,  57.7,  52.5,\n",
              "        48.6,  58. ,  60.5,  60. ,  86.4,  55. ,  71.4])"
            ]
          },
          "metadata": {},
          "execution_count": 22
        }
      ]
    },
    {
      "cell_type": "code",
      "source": [
        "# Plotting all the K clusters\n",
        "x = a_scaled[a_scaled.cluster == 0]\n",
        "y = a_scaled[a_scaled.cluster == 1]\n",
        "z = a_scaled[a_scaled.cluster == 2]\n",
        "plt.scatter(x.weight,x.steps,color = \"green\")\n",
        "plt.scatter(y.weight,y.steps,color = \"red\")\n",
        "plt.scatter(z.weight,z.steps,color = \"black\")\n",
        "plt.xlabel('Weight')\n",
        "plt.ylabel('Steps taken')\n",
        "plt.legend()"
      ],
      "metadata": {
        "colab": {
          "base_uri": "https://localhost:8080/",
          "height": 314
        },
        "id": "o7dpMEdEvhrA",
        "outputId": "0680aab1-a3f4-42e4-c4f7-1eee14e7f076"
      },
      "execution_count": null,
      "outputs": [
        {
          "output_type": "stream",
          "name": "stderr",
          "text": [
            "No handles with labels found to put in legend.\n"
          ]
        },
        {
          "output_type": "execute_result",
          "data": {
            "text/plain": [
              "<matplotlib.legend.Legend at 0x7f199df6ba10>"
            ]
          },
          "metadata": {},
          "execution_count": 23
        },
        {
          "output_type": "display_data",
          "data": {
            "text/plain": [
              "<Figure size 432x288 with 1 Axes>"
            ],
            "image/png": "[encoded data removed]"
          },
          "metadata": {
            "needs_background": "light"
          }
        }
      ]
    },
    {
      "cell_type": "markdown",
      "source": [
        "## Results"
      ],
      "metadata": {
        "id": "lTDOWzLS6EEF"
      }
    },
    {
      "cell_type": "code",
      "source": [
        "# Label 0\n",
        "cluster1 = a_scaled[a_scaled.cluster==0]\n",
        "print('Number of people in the first cluster =',len(cluster1))\n",
        "print('There are -',cluster1[\"X1\"].values)\n",
        "print(\"-------------------------\")"
      ],
      "metadata": {
        "colab": {
          "base_uri": "https://localhost:8080/"
        },
        "id": "XQRcTXGaZpCM",
        "outputId": "512e2e23-8254-4f52-8d8f-6d5b4da0143b"
      },
      "execution_count": null,
      "outputs": [
        {
          "output_type": "stream",
          "name": "stdout",
          "text": [
            "Number of people in the first cluster = 2355\n",
            "There are - [0.53257018 0.53284274 0.53311529 ... 0.99945489 0.99972745 1.        ]\n",
            "-------------------------\n"
          ]
        }
      ]
    },
    {
      "cell_type": "code",
      "source": [
        "# Label 1\n",
        "cluster2 = a_scaled[a_scaled.cluster==1]\n",
        "print('Number of people in the first cluster =',len(cluster2))\n",
        "print('There are -',cluster2[\"X1\"].values)\n",
        "print(\"-------------------------\")"
      ],
      "metadata": {
        "colab": {
          "base_uri": "https://localhost:8080/"
        },
        "id": "1QuJ_qdWaP_G",
        "outputId": "4f4ba716-399e-42e5-e677-e36ec2412856"
      },
      "execution_count": null,
      "outputs": [
        {
          "output_type": "stream",
          "name": "stdout",
          "text": [
            "Number of people in the first cluster = 2805\n",
            "There are - [0.00000000e+00 2.72553829e-04 5.45107659e-04 ... 4.28454620e-01\n",
            " 4.28727174e-01 4.28999727e-01]\n",
            "-------------------------\n"
          ]
        }
      ]
    },
    {
      "cell_type": "code",
      "source": [
        "# Label 1\n",
        "cluster3 = a_scaled[a_scaled.cluster==2]\n",
        "print('Number of people in the first cluster =',len(cluster3))\n",
        "print('There are -',cluster3[\"X1\"].values)\n",
        "print(\"-------------------------\")"
      ],
      "metadata": {
        "colab": {
          "base_uri": "https://localhost:8080/"
        },
        "id": "KmVVL8-hai9E",
        "outputId": "74a591d1-cc40-45a1-ac9d-0209aa351eef"
      },
      "execution_count": null,
      "outputs": [
        {
          "output_type": "stream",
          "name": "stdout",
          "text": [
            "Number of people in the first cluster = 1104\n",
            "There are - [0.11665304 0.11692559 0.11719815 ... 0.67429817 0.67457073 0.67484328]\n",
            "-------------------------\n"
          ]
        }
      ]
    },
    {
      "cell_type": "code",
      "source": [
        "# The clusters in a dataframe\n",
        "columns = [\"X1\"]\n",
        "cluster1_df = pd.DataFrame(cluster1,columns = columns)\n",
        "cluster1_df"
      ],
      "metadata": {
        "colab": {
          "base_uri": "https://localhost:8080/",
          "height": 424
        },
        "id": "Bisa-2sbhqgl",
        "outputId": "d87e5391-59d9-4b2b-cfa6-675fae484727"
      },
      "execution_count": null,
      "outputs": [
        {
          "output_type": "execute_result",
          "data": {
            "text/plain": [
              "            X1\n",
              "1950  0.532570\n",
              "1951  0.532843\n",
              "1952  0.533115\n",
              "1953  0.533388\n",
              "1954  0.533660\n",
              "...        ...\n",
              "6259  0.998910\n",
              "6260  0.999182\n",
              "6261  0.999455\n",
              "6262  0.999727\n",
              "6263  1.000000\n",
              "\n",
              "[2355 rows x 1 columns]"
            ],
            "text/html": [
              "\n",
              "  <div id=\"df-a33ec07c-5128-4244-b55f-e05de30759e8\">\n",
              "    <div class=\"colab-df-container\">\n",
              "      <div>\n",
              "<style scoped>\n",
              "    .dataframe tbody tr th:only-of-type {\n",
              "        vertical-align: middle;\n",
              "    }\n",
              "\n",
              "    .dataframe tbody tr th {\n",
              "        vertical-align: top;\n",
              "    }\n",
              "\n",
              "    .dataframe thead th {\n",
              "        text-align: right;\n",
              "    }\n",
              "</style>\n",
              "<table border=\"1\" class=\"dataframe\">\n",
              "  <thead>\n",
              "    <tr style=\"text-align: right;\">\n",
              "      <th></th>\n",
              "      <th>X1</th>\n",
              "    </tr>\n",
              "  </thead>\n",
              "  <tbody>\n",
              "    <tr>\n",
              "      <th>1950</th>\n",
              "      <td>0.532570</td>\n",
              "    </tr>\n",
              "    <tr>\n",
              "      <th>1951</th>\n",
              "      <td>0.532843</td>\n",
              "    </tr>\n",
              "    <tr>\n",
              "      <th>1952</th>\n",
              "      <td>0.533115</td>\n",
              "    </tr>\n",
              "    <tr>\n",
              "      <th>1953</th>\n",
              "      <td>0.533388</td>\n",
              "    </tr>\n",
              "    <tr>\n",
              "      <th>1954</th>\n",
              "      <td>0.533660</td>\n",
              "    </tr>\n",
              "    <tr>\n",
              "      <th>...</th>\n",
              "      <td>...</td>\n",
              "    </tr>\n",
              "    <tr>\n",
              "      <th>6259</th>\n",
              "      <td>0.998910</td>\n",
              "    </tr>\n",
              "    <tr>\n",
              "      <th>6260</th>\n",
              "      <td>0.999182</td>\n",
              "    </tr>\n",
              "    <tr>\n",
              "      <th>6261</th>\n",
              "      <td>0.999455</td>\n",
              "    </tr>\n",
              "    <tr>\n",
              "      <th>6262</th>\n",
              "      <td>0.999727</td>\n",
              "    </tr>\n",
              "    <tr>\n",
              "      <th>6263</th>\n",
              "      <td>1.000000</td>\n",
              "    </tr>\n",
              "  </tbody>\n",
              "</table>\n",
              "<p>2355 rows × 1 columns</p>\n",
              "</div>\n",
              "      <button class=\"colab-df-convert\" onclick=\"convertToInteractive('df-a33ec07c-5128-4244-b55f-e05de30759e8')\"\n",
              "              title=\"Convert this dataframe to an interactive table.\"\n",
              "              style=\"display:none;\">\n",
              "        \n",
              "  <svg xmlns=\"http://www.w3.org/2000/svg\" height=\"24px\"viewBox=\"0 0 24 24\"\n",
              "       width=\"24px\">\n",
              "    <path d=\"M0 0h24v24H0V0z\" fill=\"none\"/>\n",
              "    <path d=\"M18.56 5.44l.94 2.06.94-2.06 2.06-.94-2.06-.94-.94-2.06-.94 2.06-2.06.94zm-11 1L8.5 8.5l.94-2.06 2.06-.94-2.06-.94L8.5 2.5l-.94 2.06-2.06.94zm10 10l.94 2.06.94-2.06 2.06-.94-2.06-.94-.94-2.06-.94 2.06-2.06.94z\"/><path d=\"M17.41 7.96l-1.37-1.37c-.4-.4-.92-.59-1.43-.59-.52 0-1.04.2-1.43.59L10.3 9.45l-7.72 7.72c-.78.78-.78 2.05 0 2.83L4 21.41c.39.39.9.59 1.41.59.51 0 1.02-.2 1.41-.59l7.78-7.78 2.81-2.81c.8-.78.8-2.07 0-2.86zM5.41 20L4 18.59l7.72-7.72 1.47 1.35L5.41 20z\"/>\n",
              "  </svg>\n",
              "      </button>\n",
              "      \n",
              "  <style>\n",
              "    .colab-df-container {\n",
              "      display:flex;\n",
              "      flex-wrap:wrap;\n",
              "      gap: 12px;\n",
              "    }\n",
              "\n",
              "    .colab-df-convert {\n",
              "      background-color: #E8F0FE;\n",
              "      border: none;\n",
              "      border-radius: 50%;\n",
              "      cursor: pointer;\n",
              "      display: none;\n",
              "      fill: #1967D2;\n",
              "      height: 32px;\n",
              "      padding: 0 0 0 0;\n",
              "      width: 32px;\n",
              "    }\n",
              "\n",
              "    .colab-df-convert:hover {\n",
              "      background-color: #E2EBFA;\n",
              "      box-shadow: 0px 1px 2px rgba(60, 64, 67, 0.3), 0px 1px 3px 1px rgba(60, 64, 67, 0.15);\n",
              "      fill: #174EA6;\n",
              "    }\n",
              "\n",
              "    [theme=dark] .colab-df-convert {\n",
              "      background-color: #3B4455;\n",
              "      fill: #D2E3FC;\n",
              "    }\n",
              "\n",
              "    [theme=dark] .colab-df-convert:hover {\n",
              "      background-color: #434B5C;\n",
              "      box-shadow: 0px 1px 3px 1px rgba(0, 0, 0, 0.15);\n",
              "      filter: drop-shadow(0px 1px 2px rgba(0, 0, 0, 0.3));\n",
              "      fill: #FFFFFF;\n",
              "    }\n",
              "  </style>\n",
              "\n",
              "      <script>\n",
              "        const buttonEl =\n",
              "          document.querySelector('#df-a33ec07c-5128-4244-b55f-e05de30759e8 button.colab-df-convert');\n",
              "        buttonEl.style.display =\n",
              "          google.colab.kernel.accessAllowed ? 'block' : 'none';\n",
              "\n",
              "        async function convertToInteractive(key) {\n",
              "          const element = document.querySelector('#df-a33ec07c-5128-4244-b55f-e05de30759e8');\n",
              "          const dataTable =\n",
              "            await google.colab.kernel.invokeFunction('convertToInteractive',\n",
              "                                                     [key], {});\n",
              "          if (!dataTable) return;\n",
              "\n",
              "          const docLinkHtml = 'Like what you see? Visit the ' +\n",
              "            '<a target=\"_blank\" href=https://colab.research.google.com/notebooks/data_table.ipynb>data table notebook</a>'\n",
              "            + ' to learn more about interactive tables.';\n",
              "          element.innerHTML = '';\n",
              "          dataTable['output_type'] = 'display_data';\n",
              "          await google.colab.output.renderOutput(dataTable, element);\n",
              "          const docLink = document.createElement('div');\n",
              "          docLink.innerHTML = docLinkHtml;\n",
              "          element.appendChild(docLink);\n",
              "        }\n",
              "      </script>\n",
              "    </div>\n",
              "  </div>\n",
              "  "
            ]
          },
          "metadata": {},
          "execution_count": 27
        }
      ]
    },
    {
      "cell_type": "code",
      "source": [
        "cluster2_df = pd.DataFrame(cluster2,columns = columns)\n",
        "cluster2_df.head()"
      ],
      "metadata": {
        "colab": {
          "base_uri": "https://localhost:8080/",
          "height": 206
        },
        "id": "lzB1-CwVjVqH",
        "outputId": "c536c05c-a37c-442c-bff0-37e70eb4809b"
      },
      "execution_count": null,
      "outputs": [
        {
          "output_type": "execute_result",
          "data": {
            "text/plain": [
              "         X1\n",
              "0  0.000000\n",
              "1  0.000273\n",
              "2  0.000545\n",
              "3  0.000818\n",
              "4  0.001090"
            ],
            "text/html": [
              "\n",
              "  <div id=\"df-60c21e1f-0bd5-4d38-9753-426ba6425bd5\">\n",
              "    <div class=\"colab-df-container\">\n",
              "      <div>\n",
              "<style scoped>\n",
              "    .dataframe tbody tr th:only-of-type {\n",
              "        vertical-align: middle;\n",
              "    }\n",
              "\n",
              "    .dataframe tbody tr th {\n",
              "        vertical-align: top;\n",
              "    }\n",
              "\n",
              "    .dataframe thead th {\n",
              "        text-align: right;\n",
              "    }\n",
              "</style>\n",
              "<table border=\"1\" class=\"dataframe\">\n",
              "  <thead>\n",
              "    <tr style=\"text-align: right;\">\n",
              "      <th></th>\n",
              "      <th>X1</th>\n",
              "    </tr>\n",
              "  </thead>\n",
              "  <tbody>\n",
              "    <tr>\n",
              "      <th>0</th>\n",
              "      <td>0.000000</td>\n",
              "    </tr>\n",
              "    <tr>\n",
              "      <th>1</th>\n",
              "      <td>0.000273</td>\n",
              "    </tr>\n",
              "    <tr>\n",
              "      <th>2</th>\n",
              "      <td>0.000545</td>\n",
              "    </tr>\n",
              "    <tr>\n",
              "      <th>3</th>\n",
              "      <td>0.000818</td>\n",
              "    </tr>\n",
              "    <tr>\n",
              "      <th>4</th>\n",
              "      <td>0.001090</td>\n",
              "    </tr>\n",
              "  </tbody>\n",
              "</table>\n",
              "</div>\n",
              "      <button class=\"colab-df-convert\" onclick=\"convertToInteractive('df-60c21e1f-0bd5-4d38-9753-426ba6425bd5')\"\n",
              "              title=\"Convert this dataframe to an interactive table.\"\n",
              "              style=\"display:none;\">\n",
              "        \n",
              "  <svg xmlns=\"http://www.w3.org/2000/svg\" height=\"24px\"viewBox=\"0 0 24 24\"\n",
              "       width=\"24px\">\n",
              "    <path d=\"M0 0h24v24H0V0z\" fill=\"none\"/>\n",
              "    <path d=\"M18.56 5.44l.94 2.06.94-2.06 2.06-.94-2.06-.94-.94-2.06-.94 2.06-2.06.94zm-11 1L8.5 8.5l.94-2.06 2.06-.94-2.06-.94L8.5 2.5l-.94 2.06-2.06.94zm10 10l.94 2.06.94-2.06 2.06-.94-2.06-.94-.94-2.06-.94 2.06-2.06.94z\"/><path d=\"M17.41 7.96l-1.37-1.37c-.4-.4-.92-.59-1.43-.59-.52 0-1.04.2-1.43.59L10.3 9.45l-7.72 7.72c-.78.78-.78 2.05 0 2.83L4 21.41c.39.39.9.59 1.41.59.51 0 1.02-.2 1.41-.59l7.78-7.78 2.81-2.81c.8-.78.8-2.07 0-2.86zM5.41 20L4 18.59l7.72-7.72 1.47 1.35L5.41 20z\"/>\n",
              "  </svg>\n",
              "      </button>\n",
              "      \n",
              "  <style>\n",
              "    .colab-df-container {\n",
              "      display:flex;\n",
              "      flex-wrap:wrap;\n",
              "      gap: 12px;\n",
              "    }\n",
              "\n",
              "    .colab-df-convert {\n",
              "      background-color: #E8F0FE;\n",
              "      border: none;\n",
              "      border-radius: 50%;\n",
              "      cursor: pointer;\n",
              "      display: none;\n",
              "      fill: #1967D2;\n",
              "      height: 32px;\n",
              "      padding: 0 0 0 0;\n",
              "      width: 32px;\n",
              "    }\n",
              "\n",
              "    .colab-df-convert:hover {\n",
              "      background-color: #E2EBFA;\n",
              "      box-shadow: 0px 1px 2px rgba(60, 64, 67, 0.3), 0px 1px 3px 1px rgba(60, 64, 67, 0.15);\n",
              "      fill: #174EA6;\n",
              "    }\n",
              "\n",
              "    [theme=dark] .colab-df-convert {\n",
              "      background-color: #3B4455;\n",
              "      fill: #D2E3FC;\n",
              "    }\n",
              "\n",
              "    [theme=dark] .colab-df-convert:hover {\n",
              "      background-color: #434B5C;\n",
              "      box-shadow: 0px 1px 3px 1px rgba(0, 0, 0, 0.15);\n",
              "      filter: drop-shadow(0px 1px 2px rgba(0, 0, 0, 0.3));\n",
              "      fill: #FFFFFF;\n",
              "    }\n",
              "  </style>\n",
              "\n",
              "      <script>\n",
              "        const buttonEl =\n",
              "          document.querySelector('#df-60c21e1f-0bd5-4d38-9753-426ba6425bd5 button.colab-df-convert');\n",
              "        buttonEl.style.display =\n",
              "          google.colab.kernel.accessAllowed ? 'block' : 'none';\n",
              "\n",
              "        async function convertToInteractive(key) {\n",
              "          const element = document.querySelector('#df-60c21e1f-0bd5-4d38-9753-426ba6425bd5');\n",
              "          const dataTable =\n",
              "            await google.colab.kernel.invokeFunction('convertToInteractive',\n",
              "                                                     [key], {});\n",
              "          if (!dataTable) return;\n",
              "\n",
              "          const docLinkHtml = 'Like what you see? Visit the ' +\n",
              "            '<a target=\"_blank\" href=https://colab.research.google.com/notebooks/data_table.ipynb>data table notebook</a>'\n",
              "            + ' to learn more about interactive tables.';\n",
              "          element.innerHTML = '';\n",
              "          dataTable['output_type'] = 'display_data';\n",
              "          await google.colab.output.renderOutput(dataTable, element);\n",
              "          const docLink = document.createElement('div');\n",
              "          docLink.innerHTML = docLinkHtml;\n",
              "          element.appendChild(docLink);\n",
              "        }\n",
              "      </script>\n",
              "    </div>\n",
              "  </div>\n",
              "  "
            ]
          },
          "metadata": {},
          "execution_count": 28
        }
      ]
    },
    {
      "cell_type": "code",
      "source": [
        "cluster3_df = pd.DataFrame(cluster3,columns = columns)\n",
        "cluster3_df.head()"
      ],
      "metadata": {
        "colab": {
          "base_uri": "https://localhost:8080/",
          "height": 206
        },
        "id": "o9srddP3jnLf",
        "outputId": "3eebb2d9-edd8-4dea-f728-6030a461d078"
      },
      "execution_count": null,
      "outputs": [
        {
          "output_type": "execute_result",
          "data": {
            "text/plain": [
              "           X1\n",
              "428  0.116653\n",
              "429  0.116926\n",
              "430  0.117198\n",
              "431  0.117471\n",
              "432  0.117743"
            ],
            "text/html": [
              "\n",
              "  <div id=\"df-871ac7af-bdb4-4ea4-9e06-39294ca1dc22\">\n",
              "    <div class=\"colab-df-container\">\n",
              "      <div>\n",
              "<style scoped>\n",
              "    .dataframe tbody tr th:only-of-type {\n",
              "        vertical-align: middle;\n",
              "    }\n",
              "\n",
              "    .dataframe tbody tr th {\n",
              "        vertical-align: top;\n",
              "    }\n",
              "\n",
              "    .dataframe thead th {\n",
              "        text-align: right;\n",
              "    }\n",
              "</style>\n",
              "<table border=\"1\" class=\"dataframe\">\n",
              "  <thead>\n",
              "    <tr style=\"text-align: right;\">\n",
              "      <th></th>\n",
              "      <th>X1</th>\n",
              "    </tr>\n",
              "  </thead>\n",
              "  <tbody>\n",
              "    <tr>\n",
              "      <th>428</th>\n",
              "      <td>0.116653</td>\n",
              "    </tr>\n",
              "    <tr>\n",
              "      <th>429</th>\n",
              "      <td>0.116926</td>\n",
              "    </tr>\n",
              "    <tr>\n",
              "      <th>430</th>\n",
              "      <td>0.117198</td>\n",
              "    </tr>\n",
              "    <tr>\n",
              "      <th>431</th>\n",
              "      <td>0.117471</td>\n",
              "    </tr>\n",
              "    <tr>\n",
              "      <th>432</th>\n",
              "      <td>0.117743</td>\n",
              "    </tr>\n",
              "  </tbody>\n",
              "</table>\n",
              "</div>\n",
              "      <button class=\"colab-df-convert\" onclick=\"convertToInteractive('df-871ac7af-bdb4-4ea4-9e06-39294ca1dc22')\"\n",
              "              title=\"Convert this dataframe to an interactive table.\"\n",
              "              style=\"display:none;\">\n",
              "        \n",
              "  <svg xmlns=\"http://www.w3.org/2000/svg\" height=\"24px\"viewBox=\"0 0 24 24\"\n",
              "       width=\"24px\">\n",
              "    <path d=\"M0 0h24v24H0V0z\" fill=\"none\"/>\n",
              "    <path d=\"M18.56 5.44l.94 2.06.94-2.06 2.06-.94-2.06-.94-.94-2.06-.94 2.06-2.06.94zm-11 1L8.5 8.5l.94-2.06 2.06-.94-2.06-.94L8.5 2.5l-.94 2.06-2.06.94zm10 10l.94 2.06.94-2.06 2.06-.94-2.06-.94-.94-2.06-.94 2.06-2.06.94z\"/><path d=\"M17.41 7.96l-1.37-1.37c-.4-.4-.92-.59-1.43-.59-.52 0-1.04.2-1.43.59L10.3 9.45l-7.72 7.72c-.78.78-.78 2.05 0 2.83L4 21.41c.39.39.9.59 1.41.59.51 0 1.02-.2 1.41-.59l7.78-7.78 2.81-2.81c.8-.78.8-2.07 0-2.86zM5.41 20L4 18.59l7.72-7.72 1.47 1.35L5.41 20z\"/>\n",
              "  </svg>\n",
              "      </button>\n",
              "      \n",
              "  <style>\n",
              "    .colab-df-container {\n",
              "      display:flex;\n",
              "      flex-wrap:wrap;\n",
              "      gap: 12px;\n",
              "    }\n",
              "\n",
              "    .colab-df-convert {\n",
              "      background-color: #E8F0FE;\n",
              "      border: none;\n",
              "      border-radius: 50%;\n",
              "      cursor: pointer;\n",
              "      display: none;\n",
              "      fill: #1967D2;\n",
              "      height: 32px;\n",
              "      padding: 0 0 0 0;\n",
              "      width: 32px;\n",
              "    }\n",
              "\n",
              "    .colab-df-convert:hover {\n",
              "      background-color: #E2EBFA;\n",
              "      box-shadow: 0px 1px 2px rgba(60, 64, 67, 0.3), 0px 1px 3px 1px rgba(60, 64, 67, 0.15);\n",
              "      fill: #174EA6;\n",
              "    }\n",
              "\n",
              "    [theme=dark] .colab-df-convert {\n",
              "      background-color: #3B4455;\n",
              "      fill: #D2E3FC;\n",
              "    }\n",
              "\n",
              "    [theme=dark] .colab-df-convert:hover {\n",
              "      background-color: #434B5C;\n",
              "      box-shadow: 0px 1px 3px 1px rgba(0, 0, 0, 0.15);\n",
              "      filter: drop-shadow(0px 1px 2px rgba(0, 0, 0, 0.3));\n",
              "      fill: #FFFFFF;\n",
              "    }\n",
              "  </style>\n",
              "\n",
              "      <script>\n",
              "        const buttonEl =\n",
              "          document.querySelector('#df-871ac7af-bdb4-4ea4-9e06-39294ca1dc22 button.colab-df-convert');\n",
              "        buttonEl.style.display =\n",
              "          google.colab.kernel.accessAllowed ? 'block' : 'none';\n",
              "\n",
              "        async function convertToInteractive(key) {\n",
              "          const element = document.querySelector('#df-871ac7af-bdb4-4ea4-9e06-39294ca1dc22');\n",
              "          const dataTable =\n",
              "            await google.colab.kernel.invokeFunction('convertToInteractive',\n",
              "                                                     [key], {});\n",
              "          if (!dataTable) return;\n",
              "\n",
              "          const docLinkHtml = 'Like what you see? Visit the ' +\n",
              "            '<a target=\"_blank\" href=https://colab.research.google.com/notebooks/data_table.ipynb>data table notebook</a>'\n",
              "            + ' to learn more about interactive tables.';\n",
              "          element.innerHTML = '';\n",
              "          dataTable['output_type'] = 'display_data';\n",
              "          await google.colab.output.renderOutput(dataTable, element);\n",
              "          const docLink = document.createElement('div');\n",
              "          docLink.innerHTML = docLinkHtml;\n",
              "          element.appendChild(docLink);\n",
              "        }\n",
              "      </script>\n",
              "    </div>\n",
              "  </div>\n",
              "  "
            ]
          },
          "metadata": {},
          "execution_count": 29
        }
      ]
    },
    {
      "cell_type": "code",
      "source": [
        "# To determine the accuracy of the scores\n",
        "from sklearn.metrics import silhouette_score\n",
        "score = silhouette_score(a_scaled,km.labels_)\n",
        "print(score)"
      ],
      "metadata": {
        "colab": {
          "base_uri": "https://localhost:8080/"
        },
        "id": "fMXCmSzRDf5B",
        "outputId": "5092a0ae-8080-4a4c-d40b-e45bca5f2a30"
      },
      "execution_count": null,
      "outputs": [
        {
          "output_type": "stream",
          "name": "stdout",
          "text": [
            "0.7644202150418157\n"
          ]
        }
      ]
    },
    {
      "cell_type": "markdown",
      "source": [
        "A silhouette score of 0.7582. Indicating that some clusters might have overlapped."
      ],
      "metadata": {
        "id": "13DhWI6EEeVF"
      }
    }
  ]
}